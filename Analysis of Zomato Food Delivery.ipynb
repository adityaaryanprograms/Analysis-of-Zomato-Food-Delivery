{
 "cells": [
  {
   "cell_type": "markdown",
   "id": "4b9c1745",
   "metadata": {},
   "source": [
    "# SLR + SLC + USL Mini Project"
   ]
  },
  {
   "cell_type": "markdown",
   "id": "accabb76",
   "metadata": {},
   "source": [
    "#### Importing Libraries"
   ]
  },
  {
   "cell_type": "code",
   "execution_count": 1,
   "id": "f3b6ee97",
   "metadata": {},
   "outputs": [],
   "source": [
    "import pandas as pd\n",
    "import numpy as np\n",
    "import seaborn as sns\n",
    "import matplotlib.pyplot as plt\n",
    "import scipy.stats as stats\n",
    "from sklearn.model_selection import train_test_split\n",
    "from sklearn.preprocessing import LabelEncoder\n",
    "from statsmodels.api import add_constant,OLS,Logit\n",
    "from sklearn.ensemble import RandomForestRegressor,RandomForestClassifier\n",
    "from sklearn.metrics import r2_score,classification_report,roc_curve\n",
    "from sklearn.cluster import KMeans\n",
    "from sklearn.linear_model import LogisticRegression\n",
    "from sklearn.neighbors import KNeighborsClassifier\n",
    "from sklearn.naive_bayes import GaussianNB\n",
    "from sklearn.tree import DecisionTreeClassifier"
   ]
  },
  {
   "cell_type": "markdown",
   "id": "d1f10241",
   "metadata": {},
   "source": [
    "# Section A: Regression"
   ]
  },
  {
   "cell_type": "markdown",
   "id": "8d38db2a",
   "metadata": {},
   "source": [
    "**Problem:**\n",
    "\n",
    "Restaurants from all over the world can be found here in Bengaluru. From the United States \n",
    "to Japan, Russia to Antarctica, you get all types of cuisines here. Delivery, Dine-out, Pubs, \n",
    "Bars, Drinks, Buffet, Desserts you name it and Bengaluru has it. Bengaluru is the best place \n",
    "for foodies. The number of restaurants is increasing day by day. Currently, it stands at \n",
    "approximately 12,000 restaurants. With such a high number of restaurants. This industry \n",
    "hasn't been saturated yet. And new restaurants are opening every day. However, it has \n",
    "become difficult for them to compete with already established restaurants. The key issues \n",
    "that continue to pose a challenge to them include high real estate costs, rising food costs, \n",
    "shortage of quality manpower, fragmented supply chain, and over-licensing. \n",
    "\n",
    "**Objective:**\n",
    "\n",
    "The newly started companies are not able to decide the cost that would happen per \n",
    "two people for once. So the Zomato company has a good analyst team who can predict the \n",
    "cost per two customers for one time so that the newly started restaurants and upcoming \n",
    "restaurants will be well prepared how the restaurant should invest in improving the \n",
    "ambiance and all other stuff to attract the customers. Assume you are the analyst team that \n",
    "Zomato has organized to help new and upcoming restaurants by letting them know the \n",
    "various reasons that customers look for and build a model which able to predict the cost for \n",
    "two people."
   ]
  },
  {
   "cell_type": "markdown",
   "id": "c9adcbae",
   "metadata": {},
   "source": [
    "#### Reading the Data"
   ]
  },
  {
   "cell_type": "code",
   "execution_count": 2,
   "id": "28266756",
   "metadata": {},
   "outputs": [
    {
     "data": {
      "text/html": [
       "<div>\n",
       "<style scoped>\n",
       "    .dataframe tbody tr th:only-of-type {\n",
       "        vertical-align: middle;\n",
       "    }\n",
       "\n",
       "    .dataframe tbody tr th {\n",
       "        vertical-align: top;\n",
       "    }\n",
       "\n",
       "    .dataframe thead th {\n",
       "        text-align: right;\n",
       "    }\n",
       "</style>\n",
       "<table border=\"1\" class=\"dataframe\">\n",
       "  <thead>\n",
       "    <tr style=\"text-align: right;\">\n",
       "      <th></th>\n",
       "      <th>url</th>\n",
       "      <th>address</th>\n",
       "      <th>name</th>\n",
       "      <th>online_order</th>\n",
       "      <th>book_table</th>\n",
       "      <th>rate</th>\n",
       "      <th>votes</th>\n",
       "      <th>phone</th>\n",
       "      <th>location</th>\n",
       "      <th>rest_type</th>\n",
       "      <th>dish_liked</th>\n",
       "      <th>cuisines</th>\n",
       "      <th>approx_cost(for two people)</th>\n",
       "      <th>reviews_list</th>\n",
       "      <th>menu_item</th>\n",
       "      <th>listed_in(type)</th>\n",
       "      <th>listed_in(city)</th>\n",
       "    </tr>\n",
       "  </thead>\n",
       "  <tbody>\n",
       "    <tr>\n",
       "      <th>0</th>\n",
       "      <td>https://www.zomato.com/bangalore/jalsa-banasha...</td>\n",
       "      <td>942, 21st Main Road, 2nd Stage, Banashankari, ...</td>\n",
       "      <td>Jalsa</td>\n",
       "      <td>Yes</td>\n",
       "      <td>Yes</td>\n",
       "      <td>4.1/5</td>\n",
       "      <td>775</td>\n",
       "      <td>080 42297555\\r\\n+91 9743772233</td>\n",
       "      <td>Banashankari</td>\n",
       "      <td>Casual Dining</td>\n",
       "      <td>Pasta, Lunch Buffet, Masala Papad, Paneer Laja...</td>\n",
       "      <td>North Indian, Mughlai, Chinese</td>\n",
       "      <td>800</td>\n",
       "      <td>[('Rated 4.0', 'RATED\\n  A beautiful place to ...</td>\n",
       "      <td>[]</td>\n",
       "      <td>Buffet</td>\n",
       "      <td>Banashankari</td>\n",
       "    </tr>\n",
       "    <tr>\n",
       "      <th>1</th>\n",
       "      <td>https://www.zomato.com/bangalore/spice-elephan...</td>\n",
       "      <td>2nd Floor, 80 Feet Road, Near Big Bazaar, 6th ...</td>\n",
       "      <td>Spice Elephant</td>\n",
       "      <td>Yes</td>\n",
       "      <td>No</td>\n",
       "      <td>4.1/5</td>\n",
       "      <td>787</td>\n",
       "      <td>080 41714161</td>\n",
       "      <td>Banashankari</td>\n",
       "      <td>Casual Dining</td>\n",
       "      <td>Momos, Lunch Buffet, Chocolate Nirvana, Thai G...</td>\n",
       "      <td>Chinese, North Indian, Thai</td>\n",
       "      <td>800</td>\n",
       "      <td>[('Rated 4.0', 'RATED\\n  Had been here for din...</td>\n",
       "      <td>[]</td>\n",
       "      <td>Buffet</td>\n",
       "      <td>Banashankari</td>\n",
       "    </tr>\n",
       "    <tr>\n",
       "      <th>2</th>\n",
       "      <td>https://www.zomato.com/SanchurroBangalore?cont...</td>\n",
       "      <td>1112, Next to KIMS Medical College, 17th Cross...</td>\n",
       "      <td>San Churro Cafe</td>\n",
       "      <td>Yes</td>\n",
       "      <td>No</td>\n",
       "      <td>3.8/5</td>\n",
       "      <td>918</td>\n",
       "      <td>+91 9663487993</td>\n",
       "      <td>Banashankari</td>\n",
       "      <td>Cafe, Casual Dining</td>\n",
       "      <td>Churros, Cannelloni, Minestrone Soup, Hot Choc...</td>\n",
       "      <td>Cafe, Mexican, Italian</td>\n",
       "      <td>800</td>\n",
       "      <td>[('Rated 3.0', \"RATED\\n  Ambience is not that ...</td>\n",
       "      <td>[]</td>\n",
       "      <td>Buffet</td>\n",
       "      <td>Banashankari</td>\n",
       "    </tr>\n",
       "  </tbody>\n",
       "</table>\n",
       "</div>"
      ],
      "text/plain": [
       "                                                 url  \\\n",
       "0  https://www.zomato.com/bangalore/jalsa-banasha...   \n",
       "1  https://www.zomato.com/bangalore/spice-elephan...   \n",
       "2  https://www.zomato.com/SanchurroBangalore?cont...   \n",
       "\n",
       "                                             address             name  \\\n",
       "0  942, 21st Main Road, 2nd Stage, Banashankari, ...            Jalsa   \n",
       "1  2nd Floor, 80 Feet Road, Near Big Bazaar, 6th ...   Spice Elephant   \n",
       "2  1112, Next to KIMS Medical College, 17th Cross...  San Churro Cafe   \n",
       "\n",
       "  online_order book_table   rate  votes                           phone  \\\n",
       "0          Yes        Yes  4.1/5    775  080 42297555\\r\\n+91 9743772233   \n",
       "1          Yes         No  4.1/5    787                    080 41714161   \n",
       "2          Yes         No  3.8/5    918                  +91 9663487993   \n",
       "\n",
       "       location            rest_type  \\\n",
       "0  Banashankari        Casual Dining   \n",
       "1  Banashankari        Casual Dining   \n",
       "2  Banashankari  Cafe, Casual Dining   \n",
       "\n",
       "                                          dish_liked  \\\n",
       "0  Pasta, Lunch Buffet, Masala Papad, Paneer Laja...   \n",
       "1  Momos, Lunch Buffet, Chocolate Nirvana, Thai G...   \n",
       "2  Churros, Cannelloni, Minestrone Soup, Hot Choc...   \n",
       "\n",
       "                         cuisines approx_cost(for two people)  \\\n",
       "0  North Indian, Mughlai, Chinese                         800   \n",
       "1     Chinese, North Indian, Thai                         800   \n",
       "2          Cafe, Mexican, Italian                         800   \n",
       "\n",
       "                                        reviews_list menu_item  \\\n",
       "0  [('Rated 4.0', 'RATED\\n  A beautiful place to ...        []   \n",
       "1  [('Rated 4.0', 'RATED\\n  Had been here for din...        []   \n",
       "2  [('Rated 3.0', \"RATED\\n  Ambience is not that ...        []   \n",
       "\n",
       "  listed_in(type) listed_in(city)  \n",
       "0          Buffet    Banashankari  \n",
       "1          Buffet    Banashankari  \n",
       "2          Buffet    Banashankari  "
      ]
     },
     "execution_count": 2,
     "metadata": {},
     "output_type": "execute_result"
    }
   ],
   "source": [
    "d=pd.read_csv('zomato.csv')\n",
    "d.head(3)"
   ]
  },
  {
   "cell_type": "markdown",
   "id": "02b4eab5",
   "metadata": {},
   "source": [
    "### Checking Data Types"
   ]
  },
  {
   "cell_type": "code",
   "execution_count": 3,
   "id": "b6f7f1c6",
   "metadata": {},
   "outputs": [
    {
     "data": {
      "text/plain": [
       "url                            object\n",
       "address                        object\n",
       "name                           object\n",
       "online_order                   object\n",
       "book_table                     object\n",
       "rate                           object\n",
       "votes                           int64\n",
       "phone                          object\n",
       "location                       object\n",
       "rest_type                      object\n",
       "dish_liked                     object\n",
       "cuisines                       object\n",
       "approx_cost(for two people)    object\n",
       "reviews_list                   object\n",
       "menu_item                      object\n",
       "listed_in(type)                object\n",
       "listed_in(city)                object\n",
       "dtype: object"
      ]
     },
     "execution_count": 3,
     "metadata": {},
     "output_type": "execute_result"
    }
   ],
   "source": [
    "d.dtypes"
   ]
  },
  {
   "cell_type": "markdown",
   "id": "69b17b93",
   "metadata": {},
   "source": [
    "We can see that the 'rate' and 'approx_cost(for two people)' variables are wrongly identified as object datatype despite being numerical columns. We shall find out the reasons for that below."
   ]
  },
  {
   "cell_type": "code",
   "execution_count": 4,
   "id": "f8e0980d",
   "metadata": {},
   "outputs": [
    {
     "data": {
      "text/plain": [
       "array(['4.1/5', '3.8/5', '3.7/5', '3.6/5', '4.6/5', '4.0/5', '4.2/5',\n",
       "       '3.9/5', '3.1/5', '3.0/5', '3.2/5', '3.3/5', '2.8/5', '4.4/5',\n",
       "       '4.3/5', 'NEW', '2.9/5', '3.5/5', nan, '2.6/5', '3.8 /5', '3.4/5',\n",
       "       '4.5/5', '2.5/5', '2.7/5', '4.7/5', '2.4/5', '2.2/5', '2.3/5',\n",
       "       '3.4 /5', '-', '3.6 /5', '4.8/5', '3.9 /5', '4.2 /5', '4.0 /5',\n",
       "       '4.1 /5', '3.7 /5', '3.1 /5', '2.9 /5', '3.3 /5', '2.8 /5',\n",
       "       '3.5 /5', '2.7 /5', '2.5 /5', '3.2 /5', '2.6 /5', '4.5 /5',\n",
       "       '4.3 /5', '4.4 /5', '4.9/5', '2.1/5', '2.0/5', '1.8/5', '4.6 /5',\n",
       "       '4.9 /5', '3.0 /5', '4.8 /5', '2.3 /5', '4.7 /5', '2.4 /5',\n",
       "       '2.1 /5', '2.2 /5', '2.0 /5', '1.8 /5'], dtype=object)"
      ]
     },
     "execution_count": 4,
     "metadata": {},
     "output_type": "execute_result"
    }
   ],
   "source": [
    "d.rate.unique()"
   ]
  },
  {
   "cell_type": "markdown",
   "id": "800d872b",
   "metadata": {},
   "source": [
    "The 'rate' variable has '/' and spaces present in the values as well as 'NEW' or '-' as some values. We shall remove the symbols and replace 'NEW' and '-' values with NaN."
   ]
  },
  {
   "cell_type": "code",
   "execution_count": 5,
   "id": "0761e9ad",
   "metadata": {},
   "outputs": [
    {
     "data": {
      "text/plain": [
       "array([4.1, 3.8, 3.7, 3.6, 4.6, 4. , 4.2, 3.9, 3.1, 3. , 3.2, 3.3, 2.8,\n",
       "       4.4, 4.3, nan, 2.9, 3.5, 2.6, 3.4, 4.5, 2.5, 2.7, 4.7, 2.4, 2.2,\n",
       "       2.3, 4.8, 4.9, 2.1, 2. , 1.8])"
      ]
     },
     "execution_count": 5,
     "metadata": {},
     "output_type": "execute_result"
    }
   ],
   "source": [
    "# cleaning of 'rate'\n",
    "\n",
    "# function replaces all 'NEW' and '-' values with null so that we can handle them easily\n",
    "# function also removes the '/' part to change the value into float\n",
    "def clean_rate(val):\n",
    "    if val == \"NEW\" or val == \"-\":\n",
    "        return np.nan\n",
    "    else:\n",
    "        val = str(val).split('/') \n",
    "        val = val[0] # takes only the part before '/'\n",
    "        return float(val)  \n",
    "d.rate = d.rate.apply(clean_rate)\n",
    "d.rate.unique()"
   ]
  },
  {
   "cell_type": "code",
   "execution_count": 6,
   "id": "ecc38257",
   "metadata": {},
   "outputs": [
    {
     "data": {
      "text/plain": [
       "array(['800', '300', '600', '700', '550', '500', '450', '650', '400',\n",
       "       '900', '200', '750', '150', '850', '100', '1,200', '350', '250',\n",
       "       '950', '1,000', '1,500', '1,300', '199', '80', '1,100', '160',\n",
       "       '1,600', '230', '130', '50', '190', '1,700', nan, '1,400', '180',\n",
       "       '1,350', '2,200', '2,000', '1,800', '1,900', '330', '2,500',\n",
       "       '2,100', '3,000', '2,800', '3,400', '40', '1,250', '3,500',\n",
       "       '4,000', '2,400', '2,600', '120', '1,450', '469', '70', '3,200',\n",
       "       '60', '560', '240', '360', '6,000', '1,050', '2,300', '4,100',\n",
       "       '5,000', '3,700', '1,650', '2,700', '4,500', '140'], dtype=object)"
      ]
     },
     "execution_count": 6,
     "metadata": {},
     "output_type": "execute_result"
    }
   ],
   "source": [
    "d['approx_cost(for two people)'].unique()"
   ]
  },
  {
   "cell_type": "markdown",
   "id": "a9053e30",
   "metadata": {},
   "source": [
    "The unique values of the 'approx_cost(for two people)' variable show that many values have commas to represent the cost quantity which has given this column an object datatype. We shall remove the commas."
   ]
  },
  {
   "cell_type": "code",
   "execution_count": 7,
   "id": "549ff388",
   "metadata": {},
   "outputs": [
    {
     "data": {
      "text/plain": [
       "array([ 800.,  300.,  600.,  700.,  550.,  500.,  450.,  650.,  400.,\n",
       "        900.,  200.,  750.,  150.,  850.,  100., 1200.,  350.,  250.,\n",
       "        950., 1000., 1500., 1300.,  199.,   80., 1100.,  160., 1600.,\n",
       "        230.,  130.,   50.,  190., 1700.,   nan, 1400.,  180., 1350.,\n",
       "       2200., 2000., 1800., 1900.,  330., 2500., 2100., 3000., 2800.,\n",
       "       3400.,   40., 1250., 3500., 4000., 2400., 2600.,  120., 1450.,\n",
       "        469.,   70., 3200.,   60.,  560.,  240.,  360., 6000., 1050.,\n",
       "       2300., 4100., 5000., 3700., 1650., 2700., 4500.,  140.])"
      ]
     },
     "execution_count": 7,
     "metadata": {},
     "output_type": "execute_result"
    }
   ],
   "source": [
    "# cleaning of 'approx_cost(for two people)'\n",
    "\n",
    "def clean_cost(value):\n",
    "    value = str(value)\n",
    "    value = value.replace(',','') # removes ','\n",
    "    return float(value)  \n",
    "d['approx_cost(for two people)'] = d['approx_cost(for two people)'].apply(clean_cost)\n",
    "d['approx_cost(for two people)'].unique()"
   ]
  },
  {
   "cell_type": "code",
   "execution_count": 8,
   "id": "7fe45690",
   "metadata": {},
   "outputs": [
    {
     "data": {
      "text/plain": [
       "rate                           float64\n",
       "approx_cost(for two people)    float64\n",
       "dtype: object"
      ]
     },
     "execution_count": 8,
     "metadata": {},
     "output_type": "execute_result"
    }
   ],
   "source": [
    "d[['rate','approx_cost(for two people)']].dtypes"
   ]
  },
  {
   "cell_type": "markdown",
   "id": "3cd250d5",
   "metadata": {},
   "source": [
    "### Analysing Summary Statistics"
   ]
  },
  {
   "cell_type": "code",
   "execution_count": 9,
   "id": "53ea1b15",
   "metadata": {
    "scrolled": true
   },
   "outputs": [
    {
     "data": {
      "text/html": [
       "<div>\n",
       "<style scoped>\n",
       "    .dataframe tbody tr th:only-of-type {\n",
       "        vertical-align: middle;\n",
       "    }\n",
       "\n",
       "    .dataframe tbody tr th {\n",
       "        vertical-align: top;\n",
       "    }\n",
       "\n",
       "    .dataframe thead th {\n",
       "        text-align: right;\n",
       "    }\n",
       "</style>\n",
       "<table border=\"1\" class=\"dataframe\">\n",
       "  <thead>\n",
       "    <tr style=\"text-align: right;\">\n",
       "      <th></th>\n",
       "      <th>rate</th>\n",
       "      <th>votes</th>\n",
       "      <th>approx_cost(for two people)</th>\n",
       "    </tr>\n",
       "  </thead>\n",
       "  <tbody>\n",
       "    <tr>\n",
       "      <th>count</th>\n",
       "      <td>41665.000000</td>\n",
       "      <td>51717.000000</td>\n",
       "      <td>51371.000000</td>\n",
       "    </tr>\n",
       "    <tr>\n",
       "      <th>mean</th>\n",
       "      <td>3.700449</td>\n",
       "      <td>283.697527</td>\n",
       "      <td>555.431566</td>\n",
       "    </tr>\n",
       "    <tr>\n",
       "      <th>std</th>\n",
       "      <td>0.440513</td>\n",
       "      <td>803.838853</td>\n",
       "      <td>438.850728</td>\n",
       "    </tr>\n",
       "    <tr>\n",
       "      <th>min</th>\n",
       "      <td>1.800000</td>\n",
       "      <td>0.000000</td>\n",
       "      <td>40.000000</td>\n",
       "    </tr>\n",
       "    <tr>\n",
       "      <th>25%</th>\n",
       "      <td>3.400000</td>\n",
       "      <td>7.000000</td>\n",
       "      <td>300.000000</td>\n",
       "    </tr>\n",
       "    <tr>\n",
       "      <th>50%</th>\n",
       "      <td>3.700000</td>\n",
       "      <td>41.000000</td>\n",
       "      <td>400.000000</td>\n",
       "    </tr>\n",
       "    <tr>\n",
       "      <th>75%</th>\n",
       "      <td>4.000000</td>\n",
       "      <td>198.000000</td>\n",
       "      <td>650.000000</td>\n",
       "    </tr>\n",
       "    <tr>\n",
       "      <th>max</th>\n",
       "      <td>4.900000</td>\n",
       "      <td>16832.000000</td>\n",
       "      <td>6000.000000</td>\n",
       "    </tr>\n",
       "  </tbody>\n",
       "</table>\n",
       "</div>"
      ],
      "text/plain": [
       "               rate         votes  approx_cost(for two people)\n",
       "count  41665.000000  51717.000000                 51371.000000\n",
       "mean       3.700449    283.697527                   555.431566\n",
       "std        0.440513    803.838853                   438.850728\n",
       "min        1.800000      0.000000                    40.000000\n",
       "25%        3.400000      7.000000                   300.000000\n",
       "50%        3.700000     41.000000                   400.000000\n",
       "75%        4.000000    198.000000                   650.000000\n",
       "max        4.900000  16832.000000                  6000.000000"
      ]
     },
     "execution_count": 9,
     "metadata": {},
     "output_type": "execute_result"
    }
   ],
   "source": [
    "d.describe()"
   ]
  },
  {
   "cell_type": "markdown",
   "id": "f522fbff",
   "metadata": {},
   "source": [
    "**Inferences:**\n",
    "\n",
    "1. The average rating of all the restaurants is 3.7.\n",
    "2. The average cost for two people in any restaurant is 555.43.\n",
    "3. The rating of restaurants ranges from a lowest of 1.8 to a highest of 4.9.\n",
    "4. The approximate cost for two people ranges from a lowest of 40 to a highest of 6000.\n",
    "5. The similarity in mean and median of 'rate' tells us that its distribution is approximately normal.\n",
    "6. The dissimilarities in mean and median of 'votes' and 'approx_cost(for two people)' tell us that their distributions are positively skewed."
   ]
  },
  {
   "cell_type": "code",
   "execution_count": 10,
   "id": "0be94ecc",
   "metadata": {
    "scrolled": false
   },
   "outputs": [
    {
     "data": {
      "text/html": [
       "<div>\n",
       "<style scoped>\n",
       "    .dataframe tbody tr th:only-of-type {\n",
       "        vertical-align: middle;\n",
       "    }\n",
       "\n",
       "    .dataframe tbody tr th {\n",
       "        vertical-align: top;\n",
       "    }\n",
       "\n",
       "    .dataframe thead th {\n",
       "        text-align: right;\n",
       "    }\n",
       "</style>\n",
       "<table border=\"1\" class=\"dataframe\">\n",
       "  <thead>\n",
       "    <tr style=\"text-align: right;\">\n",
       "      <th></th>\n",
       "      <th>count</th>\n",
       "      <th>unique</th>\n",
       "      <th>top</th>\n",
       "      <th>freq</th>\n",
       "    </tr>\n",
       "  </thead>\n",
       "  <tbody>\n",
       "    <tr>\n",
       "      <th>url</th>\n",
       "      <td>51717</td>\n",
       "      <td>51717</td>\n",
       "      <td>https://www.zomato.com/bangalore/jalsa-banasha...</td>\n",
       "      <td>1</td>\n",
       "    </tr>\n",
       "    <tr>\n",
       "      <th>address</th>\n",
       "      <td>51717</td>\n",
       "      <td>11495</td>\n",
       "      <td>Delivery Only</td>\n",
       "      <td>128</td>\n",
       "    </tr>\n",
       "    <tr>\n",
       "      <th>name</th>\n",
       "      <td>51717</td>\n",
       "      <td>8792</td>\n",
       "      <td>Cafe Coffee Day</td>\n",
       "      <td>96</td>\n",
       "    </tr>\n",
       "    <tr>\n",
       "      <th>online_order</th>\n",
       "      <td>51717</td>\n",
       "      <td>2</td>\n",
       "      <td>Yes</td>\n",
       "      <td>30444</td>\n",
       "    </tr>\n",
       "    <tr>\n",
       "      <th>book_table</th>\n",
       "      <td>51717</td>\n",
       "      <td>2</td>\n",
       "      <td>No</td>\n",
       "      <td>45268</td>\n",
       "    </tr>\n",
       "    <tr>\n",
       "      <th>phone</th>\n",
       "      <td>50509</td>\n",
       "      <td>14926</td>\n",
       "      <td>080 43334321</td>\n",
       "      <td>216</td>\n",
       "    </tr>\n",
       "    <tr>\n",
       "      <th>location</th>\n",
       "      <td>51696</td>\n",
       "      <td>93</td>\n",
       "      <td>BTM</td>\n",
       "      <td>5124</td>\n",
       "    </tr>\n",
       "    <tr>\n",
       "      <th>rest_type</th>\n",
       "      <td>51490</td>\n",
       "      <td>93</td>\n",
       "      <td>Quick Bites</td>\n",
       "      <td>19132</td>\n",
       "    </tr>\n",
       "    <tr>\n",
       "      <th>dish_liked</th>\n",
       "      <td>23639</td>\n",
       "      <td>5271</td>\n",
       "      <td>Biryani</td>\n",
       "      <td>182</td>\n",
       "    </tr>\n",
       "    <tr>\n",
       "      <th>cuisines</th>\n",
       "      <td>51672</td>\n",
       "      <td>2723</td>\n",
       "      <td>North Indian</td>\n",
       "      <td>2913</td>\n",
       "    </tr>\n",
       "    <tr>\n",
       "      <th>reviews_list</th>\n",
       "      <td>51717</td>\n",
       "      <td>22513</td>\n",
       "      <td>[]</td>\n",
       "      <td>7595</td>\n",
       "    </tr>\n",
       "    <tr>\n",
       "      <th>menu_item</th>\n",
       "      <td>51717</td>\n",
       "      <td>9098</td>\n",
       "      <td>[]</td>\n",
       "      <td>39617</td>\n",
       "    </tr>\n",
       "    <tr>\n",
       "      <th>listed_in(type)</th>\n",
       "      <td>51717</td>\n",
       "      <td>7</td>\n",
       "      <td>Delivery</td>\n",
       "      <td>25942</td>\n",
       "    </tr>\n",
       "    <tr>\n",
       "      <th>listed_in(city)</th>\n",
       "      <td>51717</td>\n",
       "      <td>30</td>\n",
       "      <td>BTM</td>\n",
       "      <td>3279</td>\n",
       "    </tr>\n",
       "  </tbody>\n",
       "</table>\n",
       "</div>"
      ],
      "text/plain": [
       "                 count unique  \\\n",
       "url              51717  51717   \n",
       "address          51717  11495   \n",
       "name             51717   8792   \n",
       "online_order     51717      2   \n",
       "book_table       51717      2   \n",
       "phone            50509  14926   \n",
       "location         51696     93   \n",
       "rest_type        51490     93   \n",
       "dish_liked       23639   5271   \n",
       "cuisines         51672   2723   \n",
       "reviews_list     51717  22513   \n",
       "menu_item        51717   9098   \n",
       "listed_in(type)  51717      7   \n",
       "listed_in(city)  51717     30   \n",
       "\n",
       "                                                               top   freq  \n",
       "url              https://www.zomato.com/bangalore/jalsa-banasha...      1  \n",
       "address                                              Delivery Only    128  \n",
       "name                                               Cafe Coffee Day     96  \n",
       "online_order                                                   Yes  30444  \n",
       "book_table                                                      No  45268  \n",
       "phone                                                 080 43334321    216  \n",
       "location                                                       BTM   5124  \n",
       "rest_type                                              Quick Bites  19132  \n",
       "dish_liked                                                 Biryani    182  \n",
       "cuisines                                              North Indian   2913  \n",
       "reviews_list                                                    []   7595  \n",
       "menu_item                                                       []  39617  \n",
       "listed_in(type)                                           Delivery  25942  \n",
       "listed_in(city)                                                BTM   3279  "
      ]
     },
     "execution_count": 10,
     "metadata": {},
     "output_type": "execute_result"
    }
   ],
   "source": [
    "d.describe(include=object).T"
   ]
  },
  {
   "cell_type": "markdown",
   "id": "2ca04c5b",
   "metadata": {},
   "source": [
    "**Inferences:**\n",
    "\n",
    "1. Most of the orders are online.\n",
    "2. Majority of the orders do not book a table.\n",
    "3. Quick-bite restaurants are most frequent.\n",
    "4. Biryani is the most frequently liked dish.\n",
    "5. North Indian cuisine restuarants are most frequent.\n",
    "6. Most of the restaurants are listed as delivery type."
   ]
  },
  {
   "cell_type": "markdown",
   "id": "63195e1c",
   "metadata": {},
   "source": [
    "### Dropping Unnecessary Columns"
   ]
  },
  {
   "cell_type": "code",
   "execution_count": 11,
   "id": "56cd9052",
   "metadata": {},
   "outputs": [
    {
     "name": "stdout",
     "output_type": "stream",
     "text": [
      "Some values in reviews_list column:\n",
      "\n",
      " ['[(\\'Rated 4.0\\', \\'RATED\\\\n  A beautiful place to dine in.The interiors take you back to the Mughal era. The lightings are just perfect.We went there on the occasion of Christmas and so they had only limited items available. But the taste and service was not compromised at all.The only complaint is that the breads could have been better.Would surely like to come here again.\\'), (\\'Rated 4.0\\', \\'RATED\\\\n  I was here for dinner with my family on a weekday. The restaurant was completely empty. Ambience is good with some good old hindi music. Seating arrangement are good too. We ordered masala papad, panner and baby corn starters, lemon and corrionder soup, butter roti, olive and chilli paratha. Food was fresh and good, service is good too. Good for family hangout.\\\\nCheers\\'), (\\'Rated 2.0\\', \\'RATED\\\\n  Its a restaurant near to Banashankari BDA. Me along with few of my office friends visited to have buffet but unfortunately they only provide veg buffet. On inquiring they said this place is mostly visited by vegetarians. Anyways we ordered ala carte items which took ages to come. Food was ok ok. Definitely not visiting anymore.\\'), (\\'Rated 4.0\\', \\'RATED\\\\n  We went here on a weekend and one of us had the buffet while two of us took Ala Carte. Firstly the ambience and service of this place is great! The buffet had a lot of items and the good was good. We had a Pumpkin Halwa intm the dessert which was amazing. Must try! The kulchas are great here. Cheers!\\'), (\\'Rated 5.0\\', \\'RATED\\\\n  The best thing about the place is itÃ\\x83\\\\x83Ã\\x82\\\\x83Ã\\x83\\\\x82Ã\\x82\\\\x82Ã\\x83\\\\x83Ã\\x82\\\\x82Ã\\x83\\\\x82Ã\\x82\\\\x92s ambiance. Second best thing was yummy ? food. We try buffet and buffet food was not disappointed us.\\\\nTest ?. ?? ?? ?? ?? ??\\\\nQuality ?. ??????????.\\\\nService: Staff was very professional and friendly.\\\\n\\\\nOverall experience was excellent.\\\\n\\\\nsubirmajumder85.wixsite.com\\'), (\\'Rated 5.0\\', \\'RATED\\\\n  Great food and pleasant ambience. Expensive but Coll place to chill and relax......\\\\n\\\\nService is really very very good and friendly staff...\\\\n\\\\nFood : 5/5\\\\nService : 5/5\\\\nAmbience :5/5\\\\nOverall :5/5\\'), (\\'Rated 4.0\\', \\'RATED\\\\n  Good ambience with tasty food.\\\\nCheese chilli paratha with Bhutta palak methi curry is a good combo.\\\\nLemon Chicken in the starters is a must try item.\\\\nEgg fried rice was also quite tasty.\\\\nIn the mocktails, recommend \"Alice in Junoon\". Do not miss it.\\'), (\\'Rated 4.0\\', \\'RATED\\\\n  You canÃ\\x83\\\\x83Ã\\x82\\\\x83Ã\\x83\\\\x82Ã\\x82\\\\x82Ã\\x83\\\\x83Ã\\x82\\\\x82Ã\\x83\\\\x82Ã\\x82\\\\x92t go wrong with Jalsa. Never been a fan of their buffet and thus always order alacarteÃ\\x83\\\\x83Ã\\x82\\\\x83Ã\\x83\\\\x82Ã\\x82\\\\x82Ã\\x83\\\\x83Ã\\x82\\\\x82Ã\\x83\\\\x82Ã\\x82\\\\x92. Service at times can be on the slower side but food is worth the wait.\\'), (\\'Rated 5.0\\', \\'RATED\\\\n  Overdelighted by the service and food provided at this place. A royal and ethnic atmosphere builds a strong essence of being in India and also the quality and taste of food is truly authentic. I would totally recommend to visit this place once.\\'), (\\'Rated 4.0\\', \\'RATED\\\\n  The place is nice and comfortable. Food wise all jalea outlets maintain a good standard. The soya chaap was a standout dish. Clearly one of trademark dish as per me and a must try.\\\\n\\\\nThe only concern is the parking. It very congested and limited to just 5cars. The basement parking is very steep and makes it cumbersome\\'), (\\'Rated 4.0\\', \\'RATED\\\\n  The place is nice and comfortable. Food wise all jalea outlets maintain a good standard. The soya chaap was a standout dish. Clearly one of trademark dish as per me and a must try.\\\\n\\\\nThe only concern is the parking. It very congested and limited to just 5cars. The basement parking is very steep and makes it cumbersome\\'), (\\'Rated 4.0\\', \\'RATED\\\\n  The place is nice and comfortable. Food wise all jalea outlets maintain a good standard. The soya chaap was a standout dish. Clearly one of trademark dish as per me and a must try.\\\\n\\\\nThe only concern is the parking. It very congested and limited to just 5cars. The basement parking is very steep and makes it cumbersome\\')]'\n",
      " '[(\\'Rated 4.0\\', \\'RATED\\\\n  Had been here for dinner with family. Turned out to be a good choose suitable for all ages of people. Can try this place. We liked the most was their starters. Service is good. Prices are affordable. Will recommend this restaurant for early dinner. The place is little noisy.\\'), (\\'Rated 3.0\\', \\'RATED\\\\n  The ambience is really nice, staff is courteous. The price is pretty high for the quantity, but overall the experience was fine. The quality of food is nice but nothing extraordinary. They also have buffet(only veg)\\'), (\\'Rated 3.0\\', \\'RATED\\\\n  I felt good is little expensive for the quantity they serve and In terms of taste is decent. There is nothing much to talk about the ambience, regular casual dining restaurant where you can take your family for dinner or lunch. If they improve on that quantity or may be reduce the price a bit or may be improve the presentation of the food it might Manage to get more repeat customers.\\'), (\\'Rated 4.0\\', \\'RATED\\\\n  I was looking for a quite place to spend some time with family and as well wanted to try some new place. Since I was at Banashankari I thought of trying this place. The place had good rating and was part of Zomato gold. So I decided to try this place. It was a delite to see a very friendly staff and food we ordered was very tasty as well.\\\\n\\\\nFood : 4/5\\\\nAmbience :3/5\\\\nFriendly staff : 4/5\\\\nPocket friendly : 4/5\\\\n\\\\nWill definitely visit again ??\\'), (\\'Rated 4.0\\', \"RATED\\\\n  Nice place to dine and has a good ambiance... Food is good and the serving time is also good..neat restrooms and we\\'ll arranged tables....only thing is we went at 12.30 for lunch...and we noticed that they kept on playing one music back to back which was a little annoying...\\\\n\\\\n1. Chicken biriyani was so good and the chicken was fresh and tender ,rice was well cooked and overall was great\\\\n\\\\n2. Mutton biriyani was very very good and tasty and It had plenty of mutton pieces...\"), (\\'Rated 5.0\\', \\'RATED\\\\n  This place just cool ? with good ambience and slow music and having delicious food is where you find peace. Staff very friendly and they have maintained the place so clean. The price is average for what the quantity of food they serve.\\\\nThom yum Thai soup was best and was treat to mouth, roti was soft with that vilaythi paneer was perfect to have for veggie foodies, in rice we tried burnt garlic fried rice with vegetables and it was the perfect thing to end.\\'), (\\'Rated 4.0\\', \"RATED\\\\n  Quiet a good family type of place.. too calm and usually we don\\'t find crowd here.. panner curry and the deserts is what we had tasted.. they wer really good but we found it a little expensive\"), (\\'Rated 2.0\\', \"RATED\\\\n  I had a very bad experience here.\\\\nI don\\'t know about a la carte, but the buffet was the worst. They gave us complementary drink and momos before the buffet. The momos were really good.\\\\nThe number of varieties first of all was very disappointing. The service was very slow. They refilled the food very slowly. The starters were okay. The main course also was so so. There was two gravies with roti and some rice with raitha. They had chats, sev puri and pan puri, which was average. But the desert was disappointing. They had gulab Jamun and chocolate cake. The jamun was not cooked inside. There was a cold blob of raw dough inside. The chocolate cake also was really hard and not that good.\\\\nOverall the buffet was a bad experience for me.\"), (\\'Rated 4.0\\', \"RATED\\\\n  Food: 8/10\\\\nAmbience:8/10\\\\nStaff:8/10\\\\nOne of the good places to try north Indian food...but depends on ur taste buds. Not everyone will like all the items here. Specially when u r particular abt sweet and spicy food.\\\\nThere\\'s buffet available too.\\\\nWe had ordered paneer uttar dakshin and paneer kurchan..was amazing. The Gobi hara pyaz and mix veg were average.\"), (\\'Rated 3.0\\', \\'RATED\\\\n  A decent place for a family lunch or dinner.. well arranged in a simple manner. Food was tasty and the crew was very helpful and understanding..\\'), (\\'Rated 4.0\\', \"RATED\\\\n  Great place to have a heavy lunch. Good service.\\\\nThe chicken biryani was undoubtedly one of the best I\\'ve had. Biriyani and Lassi would be the suggested combo. Buffet is the talk of the place, so try according to your appetite. A nice place.\"), (\\'Rated 4.0\\', \\'RATED\\\\n  Its the one restaurant near katriguppe that i found was really good. Good variety of Chinese and thai dishes. Service is good and good place to hangout with family as its a peaceful place where noise is really less and good view.\\'), (\\'Rated 2.0\\', \"RATED\\\\n  Spice elephant soup SPL: almost manchow flavour soup.. Just above medium spicy\\\\n\\\\nLasooni fish tikka was awesome\\\\n\\\\nI don\\'t remember the dessert name but I have attached the photo .. It had vanilla ice inside wafers... Wafer was hell hard, egg smell chewy ... Nightmare dessert !\\\\n\\\\nTable leg space was very bad... I was so uncomfortable, the whole time kept on adjusting my legs\\\\n\\\\nNo parking\\\\n\\\\nFor the taste felt this is too costly\"), (\\'Rated 4.0\\', \\'RATED\\\\n  Zomato gold partner at this price. It was insane. They have really nice food. small place with very courteous staff and very cheap food for this ambience. Cost of soups is 80-100. Starters from 150-250. Main course 200-300. Cost for two was 800 for us.\\')]'\n",
      " '[(\\'Rated 3.0\\', \"RATED\\\\n  Ambience is not that good enough and it\\'s not a pocket friendly cafe and the quantity is not that good and desserts are too good enough ??..\"), (\\'Rated 3.0\\', \"RATED\\\\n \\\\nWent there for a quick bite with friends.\\\\nThe ambience had more of corporate feel. I would say it was unique.\\\\nTried nachos, pasta churros and lasagne.\\\\n\\\\nNachos were pathetic.( Seriously don\\'t order)\\\\nPasta was okayish.\\\\nLasagne was good.\\\\nNutella churros were the best.\\\\nOverall an okayish experience!\\\\nPeace ??\"), (\\'Rated 4.0\\', \"RATED\\\\n  First of all, a big thanks to the staff of this Cafe. Very polite and courteous.\\\\n\\\\nI was there 15mins before their closing time. Without any discomfort or hesitation, the staff welcomed me with a warm smile and said they\\'re still open, though they were preparing to close the cafe for the day.\\\\n\\\\nQuickly ordered the Thai green curry, which is served with rice. They got it for me within 10mins, hot and freshly made.\\\\n\\\\nIt was tasty with the taste of coconut milk. Not very spicy, it was mild spicy.\\\\n\\\\nI saw they had yummy looking dessert menu, should go there to try them out!\\\\n\\\\nA good spacious place to hang out for coffee, pastas, pizza or Thai food.\"), (\\'Rated 3.0\\', \"RATED\\\\n  A place for people who love churos. Otherwise it\\'s a normal simple cafe like any other in town . Can go and spend the evening there . The positive being it is one of the better cafes in and around Banashankari and also the place is not very crowded .\"), (\\'Rated 3.0\\', \\'RATED\\\\n  Have been visiting this place since years. The quality has gone down drastically. Food quality has become very average from good. Service is also very bad of late.\\'), (\\'Rated 1.0\\', \\'RATED\\\\n  Really disappointed with the place.\\\\n\\\\nSeems like a old dusty store room stacked up with old sofas and chairs! The decor is soo disappointing that I cannot put it in words!\\\\nLastly the food was cherry on the cake to make it a complete worse meal.\\\\n\\\\nThis place is the last option you should ever consider.\\'), (\\'Rated 3.0\\', \\'RATED\\\\n  Congested atmosphere due to smoke from kitchen\\\\nAmbience was k\\\\nService was k .\\\\nChuros was a new experience recommended\\\\nNear to kims . Parking was not der\\'), (\\'Rated 1.0\\', \"RATED\\\\n  Cockroaches !! I Repeat cockroaches!!Bakasura was disappointed.\\\\nBeing in Banashankari, being a gold outlet and nesting them? who can even think of that. Thankfully it wasn\\'t over bakasura\\'s plate. The ambience was last cleaned a decade back i guess. A cockroach just walked over our table. As it was alive, and well moving , the bakasura couldnt take a pic of it. Then the staff had to actually take it out of our table. Such ambience ? like what are you upto?\\\\n\\\\nBakasura disapproves. I dont even want to talk about the food.\"), (\\'Rated 4.0\\', \\'RATED\\\\n  A nice place to hangout, this place looks professional and also cute. If anyone is trying churros for the first the time, this is the place to go. Cheesecake is pretty amazing too.\\\\nRecommended.\\'), (\\'Rated 4.0\\', \\'RATED\\\\n  1) pizza mocktails shakes and churros really very good\\\\n2) staff good\\\\n3) ambience simple and nice good\\\\n4) location of San churro cafe very nice\\\\n5) over San churro cafe good....\\'), (\\'Rated 3.0\\', \"RATED\\\\n  One of my favourite places that I often visit in South bangalore , but quality has been reduced than before. Little unhappy with the food this time.\\\\nBut their churros never dissapointed me. Staff are too slow and do not respond easily.\\\\n\\\\nSoups:\\\\nMinestrone soup was like vegetable stock water with vegetables in it, not happy with it.\\\\n\\\\nChurros :\\\\nIt was great as usual. A must visit place if u love churros.\\\\n\\\\nStarters:\\\\n1. Africano panner -\\\\nIt was bit sweet and not happy with the dish!!\\\\n2. Loaded nachos -\\\\nThis happened to be their one of the best dishes, but now I take back my words. Very dissapointed with the dish.\\\\n\\\\nMain course:\\\\nsicilia pizza\\\\nPizza was too good, it\\'s a must try dish.\\\\n\\\\nFinally I would recommend this place for churros and pizza .\\\\n\\\\nTaste : 6/10\\\\nAmbience :7/10\\\\nValue for money : 8/10\\\\n\\\\nOverall experience : 7.5/10\"), (\\'Rated 4.0\\', \\'RATED\\\\n  Visited this place long before, place come to.notice with the decoration lights outside the cafe. We ordered churos, pizza and hot chocolate, all were good just I little priced more.\\'), (\\'Rated 4.0\\', \\'RATED\\\\n  Spain pictures of Churros triggered Nostalgia about it , which led to Google search for Churro places in city , lucky we to get the result as San Churro cafe , we had an delectable churros here along with hot chocolate and Nachos ! Thanks for fulfilling our thirst of Spanish Churros !\\\\nFood : ???\\\\nChurros ???\\\\nHot Chocolate ?\\\\nNachos ??\\\\n\\\\nService : ??\\\\n\\\\nAmbiance : ?\\\\n\\\\nCleanliness : ??\\\\n\\\\nOne drawback : Store had some flies, I hope they take care of them for our next tour ?\\'), (\\'Rated 3.0\\', \\'RATED\\\\n  Ã\\x83\\\\x83Ã\\x82\\\\x83Ã\\x83\\\\x82Ã\\x82\\\\x82Ã\\x83\\\\x83Ã\\x82\\\\x82Ã\\x83\\\\x82Ã\\x82\\\\x93Chocolaty and churroic experienceÃ\\x83\\\\x83Ã\\x82\\\\x83Ã\\x83\\\\x82Ã\\x82\\\\x82Ã\\x83\\\\x83Ã\\x82\\\\x82Ã\\x83\\\\x82Ã\\x82\\\\x94\\\\n\\\\nHit chocolate and churro with chocolate dip in the picture.\\\\n\\\\nMy first time at this restaurant and it has delivered in service, options as well as taste.\\'), (\\'Rated 4.0\\', \\'RATED\\\\n  Though very sadly the place looks in need of retouching, but the food was great! Especially when it was super cold outside and we were super hungry, the staff was nice. We ordered the pink pasta and a pizza. Both of them were pretty good. Was really tempted to try their Churros but we were stuffed. Worth a visit and try for sure!\\'), (\\'Rated 3.0\\', \"RATED\\\\n  Churros, the restaurant\\'s eponymous offering, has to be tried. They\\'re a Mexican snack and served with chocolate sauce. Milkshakes are good too. The interior walls have murals and writings all over. Haven\\'t tried the pizzas here but the cakes and pastries were pretty good.\"), (\\'Rated 3.0\\', \"RATED\\\\n  Honestly, have only tried parcels and that too only starters and mains - never tried desserts. So this review is based on starters and mains only. The quality wasn\\'t all that great, was pretty average.\"), (\\'Rated 4.0\\', \"RATED\\\\n  Visited this place for the first time, recently. The ambience was pretty good. We ordered two \\'churros for two\\'. Having churros for the first time ever, I was way too excited and judgmental. But swear to Lord, the churros were heavenly! The chocolate sauce was the actual chocolate sauce and not nutella xD We had taken the Cross Country Ranch pizza. It was a thin crust pizza loaded with veggies.\\\\nThe place is famous for churros (the name suggests so). I would love to visit again to try all the other items out :\\')\"), (\\'Rated 4.0\\', \\'RATED\\\\n  I love the desserts more than anything here !Good place and well served !:)\\\\nWe dint like the nachos here , it was not that good as we expected !\\\\nExcept nachos almost all dish were quite good!\\'), (\\'Rated 2.0\\', \"RATED\\\\n  2nd time I have visited this place and I am surprised to see how it has declined. Churros was hard, pizza was pathetic, loaded nachos and masala Garlic bread were topped with cheese with MAYO! Yes mayonnese.. Soup has the bread crumbs in almost melted state, mocktails were average and our only Savior was pasta and caramel pudding... This place has high potential but let down by dull ambience, pretty slow and inattentive staff. Buffet price was listed as 399 but was charged 499, We still went ahead and took the deal to be very disappointed!! Most dishes were freshly cooked hence going with some starts else would rate them lower. I did not find a single person who seemed happy with their meal as moat complained about one thing or the other. That\\'ll be my last visit San Churros.\")]']\n",
      "\n",
      "\n",
      "Some values in menu_item column:\n",
      "\n",
      " ['[]'\n",
      " \"['Chocolate Fantasy (Pack Of 5)', 'Pan Cake (Pack Of 6)', 'Gulab Jamun (Pack Of 10)', 'Gulkand Shot (Pack Of 5)', 'Chocolate Decadence (Pack of 2)', 'CheeseCake (Pack Of 2)', 'Red Velvet Slice Cake (Pack of 2)', 'Red Velvet Slice Cake & Cheese Cake (Pack of 2)', 'Red Velvet Slice Cake & Chocolate Decadence Cake (Pack of 2)', 'Hazelnut Brownie (Pack of 2)', 'Moments', 'Red Velvet Cake With Butter Cream Frosting (750 Gm)', 'Red Velvet Slice Cake (Pack of 2)', 'Red Velvet Slice Cake & Cheese Cake (Pack of 2)', 'Red Velvet Slice Cake & Chocolate Decadence Cake (Pack of 2)', 'Red Velvet Slice Cake (Pack of 1)', 'Valentine Red Velvet Jar', 'Valentine Chocolate Jar', 'Valentines Jar Combo', 'Pink Guava 500 ML', 'Oreo Vanilla 500 ML', 'Cookie Crumble 500 ML', 'Chocolate Fantasy', 'Gulkand-E-Bahar', 'Pan Cake', 'Hazelnut Brownie (Pack Of 1)', 'Gulab Jamun (Pack Of 2)', 'Plum Cake', 'Red Velvet Cake With Butter Cream Frosting (750 Gm)', 'Chocolate Mud Cake (700 Gms)', 'CheeseCake (Pack of 1)', 'Chocolate Decadence (Pack of 1)', 'Red Velvet Slice Cake (Pack of 1)']\"\n",
      " \"['Chole Kulcha Meal', 'Upvas Aloo Paratha With Dahi', 'Singhada Aloo Paratha with Hare Tamatar Ki Sabji', 'Smoked Butter Chicken Combo', 'Paneer Methi Chaman Combo', 'Mutton Bhuna Combo', 'Rajma Masala Meal', 'Dal Makhani Veg Starter Combo', 'Dal Makhani Non-Veg Starter Combo', 'Malai Kofta Combo', 'Jumbo Chicken Wrap', 'Jumbo Veg Wrap', 'Jumbo Falafel Salsa Wrap', 'Chicken Overload Jumbo Wrap', 'Veg Pizza Wrap', 'Chicken Pizza Wrap', 'Mexican Potato Salsa Wrap', 'American Smokey Sausage Wrap', 'Makhani Falafel Wrap', 'Mutton Overload Wrap', 'Mac & Cheese Chicken Wrap', 'Mac & Cheese Veg Wrap', 'Barbeque Chicken Wrap', 'Mutton Boti Wrap', 'Masala Paneer Tikka Wrap', 'Fiery Paneer Tikka Wrap', 'Masala Chicken Tikka Wrap', 'Cheesy Corn Salsa Wrap', 'Chicken Mayo Wrap', 'Cheese Melt Chicken Wrap', 'Cheese Melt Paneer Wrap', 'Double Cheese Meatball Wrap', 'Reshmi Chicken Kebab Wrap', 'Egg Cheese Sausage Wrap', 'Double Egg Chatpata Wrap', 'Cheesy Potato Wrap', 'Veg Falafel Wrap', 'Chicken Bhuna Wrap', 'Chatpate Chole Wrap', 'Fiery Paneer Wrap', 'Fiery Chicken Wrap', 'Mac & Cheese Wrap', 'Hare Tamatar & Sabudana Wada Royal Thali', 'Singhada Aloo Paratha & Hare Tamatar Royal Satvik Meal', 'Smoked Butter Chicken With Omelette', 'Rajma Masala Royal Combo', 'Paneer Methi Chaman Royal Combo', 'Mutton Bhuna Royal Combo', 'Smoked Butter Chicken Royal Combo', 'Malai Kofta Royal Combo', 'Fusion Breakfast', 'Pan Cake', 'Aloo Paratha Combo', 'Chai for 4', 'Cheesy Chicken Meatballs', 'Peach Tea (Serves 4)', 'Falafel Nuggets with Mayo Dip', 'Potato Chilli Shots with Mayo Dip', 'Pan Cake', 'Kashmiri Kahwa (Serves 4)', 'Masala Chai (Serves 4)', 'Chai for 4 + Nature valley bar', 'Kulcha', 'Flavorful Rice Tub', 'Dal Makhani Bowl (Half KG)', 'Smoked Butter Chicken Bowl (Half KG)', 'Mutton Bhuna Bowl (Half KG)', 'Singhada Aloo Paratha Tub', 'Curd Bowl (Half KG)', 'Hare Tamatar Ki Subji (Half KG)', 'Rajma Masala Bowl (Half KG)', 'Triangle Paratha Tub', 'Malai Kofta Bowl (Half Kg)', 'Chocolate Fantasy', 'SWIG Jeera Masala', 'SWIG Green apple', 'Kesar Muesli', 'Gulab Jamun (Pack Of 2)', 'Plum Cake', 'Gulab Jamun (Pack of 1)', 'Moments', 'Hazelnut Brownie (Pack Of 1)', 'CheeseCake (Pack of 1)', 'Chocolate Decadence (Pack of 1)', 'Red Velvet Slice Cake (Pack of 1)', 'Mint Chaas']\"]\n",
      "\n",
      "\n",
      "Some values in dish_liked column:\n",
      "\n",
      " ['Pasta, Lunch Buffet, Masala Papad, Paneer Lajawab, Tomato Shorba, Dum Biryani, Sweet Corn Soup'\n",
      " 'Momos, Lunch Buffet, Chocolate Nirvana, Thai Green Curry, Paneer Tikka, Dum Biryani, Chicken Biryani'\n",
      " 'Churros, Cannelloni, Minestrone Soup, Hot Chocolate, Pink Sauce Pasta, Salsa, Veg Supreme Pizza']\n",
      "\n",
      "\n",
      "Some values in cuisines column:\n",
      "\n",
      " ['North Indian, Mughlai, Chinese' 'Chinese, North Indian, Thai'\n",
      " 'Cafe, Mexican, Italian']\n",
      "\n",
      "\n"
     ]
    }
   ],
   "source": [
    "for i in ['reviews_list','menu_item','dish_liked','cuisines']:\n",
    "    print(f'Some values in {i} column:\\n\\n',d[i].unique()[:3],end='\\n\\n\\n')\n",
    "    # prints first three unique values"
   ]
  },
  {
   "cell_type": "markdown",
   "id": "e743835d",
   "metadata": {},
   "source": [
    "'url' and 'phone' variables are not important for our analysis. Since we already have the data about the area of the restaurant in the 'location' variable, we do not require 'address' and 'listed in(city)'. Since there are multiple values present in one entry of 'reviews_list', 'menu_item', 'dish_liked', and 'cuisines' and thus there are a lot of unique values, the cardinality of these variables is high. Thus, we shall drop these columns."
   ]
  },
  {
   "cell_type": "code",
   "execution_count": 12,
   "id": "a254cd00",
   "metadata": {},
   "outputs": [
    {
     "data": {
      "text/html": [
       "<div>\n",
       "<style scoped>\n",
       "    .dataframe tbody tr th:only-of-type {\n",
       "        vertical-align: middle;\n",
       "    }\n",
       "\n",
       "    .dataframe tbody tr th {\n",
       "        vertical-align: top;\n",
       "    }\n",
       "\n",
       "    .dataframe thead th {\n",
       "        text-align: right;\n",
       "    }\n",
       "</style>\n",
       "<table border=\"1\" class=\"dataframe\">\n",
       "  <thead>\n",
       "    <tr style=\"text-align: right;\">\n",
       "      <th></th>\n",
       "      <th>name</th>\n",
       "      <th>online_order</th>\n",
       "      <th>book_table</th>\n",
       "      <th>rate</th>\n",
       "      <th>votes</th>\n",
       "      <th>location</th>\n",
       "      <th>rest_type</th>\n",
       "      <th>approx_cost(for two people)</th>\n",
       "      <th>listed_in(type)</th>\n",
       "    </tr>\n",
       "  </thead>\n",
       "  <tbody>\n",
       "    <tr>\n",
       "      <th>0</th>\n",
       "      <td>Jalsa</td>\n",
       "      <td>Yes</td>\n",
       "      <td>Yes</td>\n",
       "      <td>4.1</td>\n",
       "      <td>775</td>\n",
       "      <td>Banashankari</td>\n",
       "      <td>Casual Dining</td>\n",
       "      <td>800.0</td>\n",
       "      <td>Buffet</td>\n",
       "    </tr>\n",
       "    <tr>\n",
       "      <th>1</th>\n",
       "      <td>Spice Elephant</td>\n",
       "      <td>Yes</td>\n",
       "      <td>No</td>\n",
       "      <td>4.1</td>\n",
       "      <td>787</td>\n",
       "      <td>Banashankari</td>\n",
       "      <td>Casual Dining</td>\n",
       "      <td>800.0</td>\n",
       "      <td>Buffet</td>\n",
       "    </tr>\n",
       "    <tr>\n",
       "      <th>2</th>\n",
       "      <td>San Churro Cafe</td>\n",
       "      <td>Yes</td>\n",
       "      <td>No</td>\n",
       "      <td>3.8</td>\n",
       "      <td>918</td>\n",
       "      <td>Banashankari</td>\n",
       "      <td>Cafe, Casual Dining</td>\n",
       "      <td>800.0</td>\n",
       "      <td>Buffet</td>\n",
       "    </tr>\n",
       "    <tr>\n",
       "      <th>3</th>\n",
       "      <td>Addhuri Udupi Bhojana</td>\n",
       "      <td>No</td>\n",
       "      <td>No</td>\n",
       "      <td>3.7</td>\n",
       "      <td>88</td>\n",
       "      <td>Banashankari</td>\n",
       "      <td>Quick Bites</td>\n",
       "      <td>300.0</td>\n",
       "      <td>Buffet</td>\n",
       "    </tr>\n",
       "    <tr>\n",
       "      <th>4</th>\n",
       "      <td>Grand Village</td>\n",
       "      <td>No</td>\n",
       "      <td>No</td>\n",
       "      <td>3.8</td>\n",
       "      <td>166</td>\n",
       "      <td>Basavanagudi</td>\n",
       "      <td>Casual Dining</td>\n",
       "      <td>600.0</td>\n",
       "      <td>Buffet</td>\n",
       "    </tr>\n",
       "  </tbody>\n",
       "</table>\n",
       "</div>"
      ],
      "text/plain": [
       "                    name online_order book_table  rate  votes      location  \\\n",
       "0                  Jalsa          Yes        Yes   4.1    775  Banashankari   \n",
       "1         Spice Elephant          Yes         No   4.1    787  Banashankari   \n",
       "2        San Churro Cafe          Yes         No   3.8    918  Banashankari   \n",
       "3  Addhuri Udupi Bhojana           No         No   3.7     88  Banashankari   \n",
       "4          Grand Village           No         No   3.8    166  Basavanagudi   \n",
       "\n",
       "             rest_type  approx_cost(for two people) listed_in(type)  \n",
       "0        Casual Dining                        800.0          Buffet  \n",
       "1        Casual Dining                        800.0          Buffet  \n",
       "2  Cafe, Casual Dining                        800.0          Buffet  \n",
       "3          Quick Bites                        300.0          Buffet  \n",
       "4        Casual Dining                        600.0          Buffet  "
      ]
     },
     "execution_count": 12,
     "metadata": {},
     "output_type": "execute_result"
    }
   ],
   "source": [
    "d=d.drop(['url','address','phone','reviews_list','menu_item','listed_in(city)','dish_liked',\n",
    "          'cuisines'],axis=1)\n",
    "d.head()"
   ]
  },
  {
   "cell_type": "markdown",
   "id": "112ff896",
   "metadata": {},
   "source": [
    "### Treatment of Missing Values"
   ]
  },
  {
   "cell_type": "code",
   "execution_count": 13,
   "id": "89d3a626",
   "metadata": {},
   "outputs": [
    {
     "data": {
      "text/plain": [
       "name                            0.00\n",
       "online_order                    0.00\n",
       "book_table                      0.00\n",
       "rate                           19.44\n",
       "votes                           0.00\n",
       "location                        0.04\n",
       "rest_type                       0.44\n",
       "approx_cost(for two people)     0.67\n",
       "listed_in(type)                 0.00\n",
       "dtype: float64"
      ]
     },
     "execution_count": 13,
     "metadata": {},
     "output_type": "execute_result"
    }
   ],
   "source": [
    "round(d.isna().mean()*100,2)"
   ]
  },
  {
   "cell_type": "markdown",
   "id": "ab5fb11a",
   "metadata": {},
   "source": [
    "'rest_type' and 'approx_cost(for two people)' have very low percentage of missing values, thus we shall drop them."
   ]
  },
  {
   "cell_type": "code",
   "execution_count": 14,
   "id": "44eb674f",
   "metadata": {},
   "outputs": [
    {
     "data": {
      "text/plain": [
       "name                            0.00\n",
       "online_order                    0.00\n",
       "book_table                      0.00\n",
       "rate                           19.34\n",
       "votes                           0.00\n",
       "location                        0.00\n",
       "rest_type                       0.00\n",
       "approx_cost(for two people)     0.00\n",
       "listed_in(type)                 0.00\n",
       "dtype: float64"
      ]
     },
     "execution_count": 14,
     "metadata": {},
     "output_type": "execute_result"
    }
   ],
   "source": [
    "d=d[d.rest_type.notna()&d['approx_cost(for two people)'].notna()]\n",
    "round(d.isna().mean()*100,2)"
   ]
  },
  {
   "cell_type": "code",
   "execution_count": 15,
   "id": "9d5f742a",
   "metadata": {},
   "outputs": [
    {
     "data": {
      "image/png": "[encoded data removed]",
      "text/plain": [
       "<Figure size 640x480 with 1 Axes>"
      ]
     },
     "metadata": {},
     "output_type": "display_data"
    }
   ],
   "source": [
    "sns.boxplot(x=d.rate)\n",
    "plt.show()"
   ]
  },
  {
   "cell_type": "markdown",
   "id": "128aeab7",
   "metadata": {},
   "source": [
    "We can observe from the above box plot that 'rate' has negative outliers and thus, we shall impute its missing values with its median."
   ]
  },
  {
   "cell_type": "code",
   "execution_count": 16,
   "id": "302468c5",
   "metadata": {},
   "outputs": [
    {
     "data": {
      "text/plain": [
       "name                           0\n",
       "online_order                   0\n",
       "book_table                     0\n",
       "rate                           0\n",
       "votes                          0\n",
       "location                       0\n",
       "rest_type                      0\n",
       "approx_cost(for two people)    0\n",
       "listed_in(type)                0\n",
       "dtype: int64"
      ]
     },
     "execution_count": 16,
     "metadata": {},
     "output_type": "execute_result"
    }
   ],
   "source": [
    "d.rate.fillna(d.rate.median(),inplace=True)\n",
    "d.isna().sum()"
   ]
  },
  {
   "cell_type": "markdown",
   "id": "9f155dd6",
   "metadata": {},
   "source": [
    "### Checking Duplicate Records"
   ]
  },
  {
   "cell_type": "code",
   "execution_count": 17,
   "id": "40988260",
   "metadata": {},
   "outputs": [
    {
     "data": {
      "text/plain": [
       "19720"
      ]
     },
     "execution_count": 17,
     "metadata": {},
     "output_type": "execute_result"
    }
   ],
   "source": [
    "d.duplicated().sum()"
   ]
  },
  {
   "cell_type": "markdown",
   "id": "d1ba07a8",
   "metadata": {},
   "source": [
    "There are 19720 duplicate records in the data. Thus, we shall drop them."
   ]
  },
  {
   "cell_type": "code",
   "execution_count": 18,
   "id": "e578dd3a",
   "metadata": {},
   "outputs": [
    {
     "data": {
      "text/plain": [
       "0"
      ]
     },
     "execution_count": 18,
     "metadata": {},
     "output_type": "execute_result"
    }
   ],
   "source": [
    "d=d.drop_duplicates()\n",
    "d.duplicated().sum()"
   ]
  },
  {
   "cell_type": "markdown",
   "id": "df361c48",
   "metadata": {},
   "source": [
    "## Univariate Analysis"
   ]
  },
  {
   "cell_type": "code",
   "execution_count": 19,
   "id": "0e414a5b",
   "metadata": {},
   "outputs": [
    {
     "data": {
      "image/png": "[encoded data removed]",
      "text/plain": [
       "<Figure size 800x800 with 3 Axes>"
      ]
     },
     "metadata": {},
     "output_type": "display_data"
    }
   ],
   "source": [
    "n=1\n",
    "plt.figure(figsize=(8,8))\n",
    "for i in ['name','location','rest_type']:\n",
    "    plt.subplot(2,2,n)\n",
    "    v=d[i].value_counts()[:5] # selects 5 unique values with highest count\n",
    "    sns.barplot(x=v.index,y=v.values) # plots bar graph with names of values on x and counts on y\n",
    "    plt.xticks(rotation=90)\n",
    "    plt.xlabel(f'Top 5 {i}')\n",
    "    plt.ylabel('Count')\n",
    "    n+=1\n",
    "plt.tight_layout()\n",
    "plt.show()"
   ]
  },
  {
   "cell_type": "markdown",
   "id": "e8182832",
   "metadata": {},
   "source": [
    "**Inferences:**\n",
    "\n",
    "1. 'Onesta' and 'Cafe Coffee Day' are two of the most common restaurants.\n",
    "2. BTM has the highest number of restaurants.\n",
    "3. 'Casual Dining' is the most common type of restaurants after 'Quick Bites'."
   ]
  },
  {
   "cell_type": "code",
   "execution_count": 20,
   "id": "571893bc",
   "metadata": {},
   "outputs": [
    {
     "data": {
      "image/png": "[encoded data removed]",
      "text/plain": [
       "<Figure size 800x700 with 3 Axes>"
      ]
     },
     "metadata": {},
     "output_type": "display_data"
    }
   ],
   "source": [
    "n=1\n",
    "plt.figure(figsize=(8,7))\n",
    "for i in ['online_order','book_table','listed_in(type)']:\n",
    "    plt.subplot(2,2,n)\n",
    "    sns.countplot(x=d[i])\n",
    "    plt.xticks(rotation=90)\n",
    "    n+=1\n",
    "plt.tight_layout()\n",
    "plt.show()"
   ]
  },
  {
   "cell_type": "markdown",
   "id": "e4029003",
   "metadata": {},
   "source": [
    "**Inferences:**\n",
    "\n",
    "1. Offline orders are not much less than online orders.\n",
    "2. 'book_table' is highly imbalanced.\n",
    "3. Delivery and dine-out type of restaurants are much more than any other type."
   ]
  },
  {
   "cell_type": "code",
   "execution_count": 21,
   "id": "be4faedf",
   "metadata": {},
   "outputs": [
    {
     "data": {
      "image/png": "[encoded data removed]",
      "text/plain": [
       "<Figure size 800x700 with 3 Axes>"
      ]
     },
     "metadata": {},
     "output_type": "display_data"
    }
   ],
   "source": [
    "n=1\n",
    "plt.figure(figsize=(8,7))\n",
    "for i in ['rate','votes','approx_cost(for two people)']:\n",
    "    plt.subplot(2,2,n)\n",
    "    sns.histplot(x=d[i],kde=True)\n",
    "    n+=1\n",
    "plt.tight_layout()\n",
    "plt.show()"
   ]
  },
  {
   "cell_type": "markdown",
   "id": "02c4d88d",
   "metadata": {},
   "source": [
    "**Inferences:**\n",
    "\n",
    "1. Majority of the restaurants are rated between 3 and 4.5.\n",
    "2. Restaurants with zero votes are common.\n",
    "3. Approximate cost for two people does not go beyond 2000 in most of the restaurants."
   ]
  },
  {
   "cell_type": "markdown",
   "id": "c6be1791",
   "metadata": {},
   "source": [
    "## Bivariate Analysis"
   ]
  },
  {
   "cell_type": "code",
   "execution_count": 22,
   "id": "2762b609",
   "metadata": {},
   "outputs": [
    {
     "data": {
      "image/png": "[encoded data removed]",
      "text/plain": [
       "<Figure size 900x500 with 3 Axes>"
      ]
     },
     "metadata": {},
     "output_type": "display_data"
    }
   ],
   "source": [
    "n=1\n",
    "plt.figure(figsize=(9,5))\n",
    "for i in ['online_order','book_table','listed_in(type)']:\n",
    "    plt.subplot(1,3,n)\n",
    "    sns.boxplot(x=d[i],y=d['approx_cost(for two people)'])\n",
    "    plt.xticks(rotation=90)\n",
    "    n+=1\n",
    "plt.tight_layout()\n",
    "plt.show()"
   ]
  },
  {
   "cell_type": "markdown",
   "id": "6862f46c",
   "metadata": {},
   "source": [
    "**Inferences:**\n",
    "\n",
    "1. Approximate cost does not vary too much depending on whether orders are online or not.\n",
    "2. Orders with tables booked have higher approximate costs.\n",
    "3. 'Buffet', 'Drinks & nightlife' and 'Pubs and bars' type of restaurants have higher approximate cost."
   ]
  },
  {
   "cell_type": "code",
   "execution_count": 23,
   "id": "e95fa233",
   "metadata": {},
   "outputs": [
    {
     "data": {
      "image/png": "[encoded data removed]",
      "text/plain": [
       "<Figure size 800x400 with 2 Axes>"
      ]
     },
     "metadata": {},
     "output_type": "display_data"
    }
   ],
   "source": [
    "n=1\n",
    "plt.figure(figsize=(8,4))\n",
    "for i in ['rate','votes']:\n",
    "    plt.subplot(1,2,n)\n",
    "    sns.scatterplot(x=d[i],y=d['approx_cost(for two people)'])\n",
    "    n+=1\n",
    "plt.tight_layout()\n",
    "plt.show()"
   ]
  },
  {
   "cell_type": "markdown",
   "id": "a5492c65",
   "metadata": {},
   "source": [
    "**Inferences:**\n",
    "\n",
    "1. Approximate cost is higher for higher rated restaurants.\n",
    "2. Restaurants in which approximate cost is high have less votes."
   ]
  },
  {
   "cell_type": "markdown",
   "id": "70fab9f3",
   "metadata": {},
   "source": [
    "Thus, 'book_table', 'listed_in(type)', 'rate' and 'votes' are variables significant for our prediction."
   ]
  },
  {
   "cell_type": "markdown",
   "id": "c0c3a244",
   "metadata": {},
   "source": [
    "### Outlier Analysis"
   ]
  },
  {
   "cell_type": "code",
   "execution_count": 24,
   "id": "25ff67ef",
   "metadata": {},
   "outputs": [
    {
     "data": {
      "image/png": "[encoded data removed]",
      "text/plain": [
       "<Figure size 800x200 with 3 Axes>"
      ]
     },
     "metadata": {},
     "output_type": "display_data"
    }
   ],
   "source": [
    "n=1\n",
    "plt.figure(figsize=(8,2))\n",
    "for i in ['rate','votes','approx_cost(for two people)']:\n",
    "    plt.subplot(1,3,n)\n",
    "    sns.boxplot(x=d[i])\n",
    "    n+=1\n",
    "plt.tight_layout()\n",
    "plt.show()"
   ]
  },
  {
   "cell_type": "markdown",
   "id": "afb713c3",
   "metadata": {},
   "source": [
    "We see that all the numeric variables have outliers. 'votes' and 'approx_cost(for two people)' have too many outliers and thus we shall keep them unchanged in order to prevent loss of data. We shall cap the outliers of 'rate'."
   ]
  },
  {
   "cell_type": "code",
   "execution_count": 25,
   "id": "f89e74aa",
   "metadata": {},
   "outputs": [
    {
     "data": {
      "image/png": "[encoded data removed]",
      "text/plain": [
       "<Figure size 640x480 with 1 Axes>"
      ]
     },
     "metadata": {},
     "output_type": "display_data"
    }
   ],
   "source": [
    "q1=d.rate.quantile(.25)\n",
    "q3=d.rate.quantile(.75)\n",
    "iqr=q3-q1\n",
    "d.rate=np.where(d.rate<q1-1.5*iqr,q1-1.5*iqr,d.rate)\n",
    "d.rate=np.where(d.rate>q3+1.5*iqr,q3+1.5*iqr,d.rate)\n",
    "sns.boxplot(x=d.rate)\n",
    "plt.show()"
   ]
  },
  {
   "cell_type": "markdown",
   "id": "1cb565f7",
   "metadata": {},
   "source": [
    "We shall create a copy of the cleaned data to use in section B."
   ]
  },
  {
   "cell_type": "code",
   "execution_count": 26,
   "id": "fa3eee86",
   "metadata": {},
   "outputs": [],
   "source": [
    "d_clean=d.copy()"
   ]
  },
  {
   "cell_type": "markdown",
   "id": "540ad34e",
   "metadata": {},
   "source": [
    "## Hypothesis Testing"
   ]
  },
  {
   "cell_type": "markdown",
   "id": "d824eafa",
   "metadata": {},
   "source": [
    "**Testing dependence of target variable on 'online_order'**\n",
    "\n",
    "H0: m1 = m2\n",
    "\n",
    "H1: m1 != m2\n",
    "\n",
    "Significance level = 0.05"
   ]
  },
  {
   "cell_type": "code",
   "execution_count": 26,
   "id": "e96fa1a7",
   "metadata": {},
   "outputs": [
    {
     "name": "stdout",
     "output_type": "stream",
     "text": [
      "P-value = 5.07755878385213e-83\n"
     ]
    }
   ],
   "source": [
    "y=d[d.online_order=='Yes']['approx_cost(for two people)'] \n",
    "n=d[d.online_order=='No']['approx_cost(for two people)'] \n",
    "print('P-value =',stats.ttest_ind(y,n)[1])"
   ]
  },
  {
   "cell_type": "markdown",
   "id": "e4f873ea",
   "metadata": {},
   "source": [
    "Since the p-value is much less than the significance level, we reject the null hypothesis. Hence, there is enough evidence to conclude that the mean cost of online orders is different than that of offline orders. \n",
    "\n",
    "Thus, the target variable depends on 'online_order'."
   ]
  },
  {
   "cell_type": "markdown",
   "id": "e5ea4dd0",
   "metadata": {},
   "source": [
    "**Testing dependence of target variable on 'book_table'**\n",
    "\n",
    "H0: m1 = m2\n",
    "\n",
    "H1: m1 != m2\n",
    "\n",
    "Significance level = 0.05"
   ]
  },
  {
   "cell_type": "code",
   "execution_count": 27,
   "id": "d5e87103",
   "metadata": {},
   "outputs": [
    {
     "name": "stdout",
     "output_type": "stream",
     "text": [
      "P-value = 0.0\n"
     ]
    }
   ],
   "source": [
    "y=d[d.book_table=='Yes']['approx_cost(for two people)']\n",
    "n=d[d.book_table=='No']['approx_cost(for two people)']\n",
    "print('P-value =',stats.ttest_ind(y,n)[1])"
   ]
  },
  {
   "cell_type": "markdown",
   "id": "fe0b08bc",
   "metadata": {},
   "source": [
    "Since the p-value is much less than the significance level, we reject the null hypothesis. Hence, there is enough evidence to conclude that the mean cost of orders with tables booked is different than that of orders with no tables booked. \n",
    "\n",
    "Thus, the target variable depends on 'book_table'."
   ]
  },
  {
   "cell_type": "markdown",
   "id": "e2e76590",
   "metadata": {},
   "source": [
    "**Testing dependence of target variable on 'rate'**\n",
    "\n",
    "H0: 'rate' and 'approx_cost(for two people)' are independent.\n",
    "\n",
    "H1: 'rate' and 'approx_cost(for two people)' are not independent.\n",
    "\n",
    "Significance level = 0.05"
   ]
  },
  {
   "cell_type": "code",
   "execution_count": 28,
   "id": "05a0891a",
   "metadata": {},
   "outputs": [
    {
     "name": "stdout",
     "output_type": "stream",
     "text": [
      "P-value = 0.0\n"
     ]
    }
   ],
   "source": [
    "print('P-value =',stats.pearsonr(d.rate,d['approx_cost(for two people)'])[1])\n",
    "# performs Pearson's Test of Correlation"
   ]
  },
  {
   "cell_type": "markdown",
   "id": "fb516b3e",
   "metadata": {},
   "source": [
    "Since the p-value is much less than the significance level, we reject the null hypothesis. Hence, there is enough evidence to conclude that 'rate' and 'approx_cost(for two people)' are not independent. \n",
    "\n",
    "Thus, the target variable depends on 'rate'."
   ]
  },
  {
   "cell_type": "markdown",
   "id": "c0d55566",
   "metadata": {},
   "source": [
    "**Testing dependence of target variable on 'votes'**\n",
    "\n",
    "H0: 'votes' and 'approx_cost(for two people)' are independent.\n",
    "\n",
    "H1: 'votes' and 'approx_cost(for two people)' are not independent.\n",
    "\n",
    "Significance level = 0.05"
   ]
  },
  {
   "cell_type": "code",
   "execution_count": 29,
   "id": "90c490aa",
   "metadata": {},
   "outputs": [
    {
     "name": "stdout",
     "output_type": "stream",
     "text": [
      "P-value = 0.0\n"
     ]
    }
   ],
   "source": [
    "print('P-value =',stats.pearsonr(d.votes,d['approx_cost(for two people)'])[1])\n",
    "# performs Pearson's Test of Correlation"
   ]
  },
  {
   "cell_type": "markdown",
   "id": "8d011001",
   "metadata": {},
   "source": [
    "Since the p-value is much less than the significance level, we reject the null hypothesis. Hence, there is enough evidence to conclude that 'votes' and 'approx_cost(for two people)' are not independent. \n",
    "\n",
    "Thus, the target variable depends on 'votes'."
   ]
  },
  {
   "cell_type": "markdown",
   "id": "acde7e69",
   "metadata": {},
   "source": [
    "### Encoding Categorical Variables"
   ]
  },
  {
   "cell_type": "code",
   "execution_count": 30,
   "id": "742c99a2",
   "metadata": {},
   "outputs": [
    {
     "data": {
      "text/html": [
       "<div>\n",
       "<style scoped>\n",
       "    .dataframe tbody tr th:only-of-type {\n",
       "        vertical-align: middle;\n",
       "    }\n",
       "\n",
       "    .dataframe tbody tr th {\n",
       "        vertical-align: top;\n",
       "    }\n",
       "\n",
       "    .dataframe thead th {\n",
       "        text-align: right;\n",
       "    }\n",
       "</style>\n",
       "<table border=\"1\" class=\"dataframe\">\n",
       "  <thead>\n",
       "    <tr style=\"text-align: right;\">\n",
       "      <th></th>\n",
       "      <th>name</th>\n",
       "      <th>online_order</th>\n",
       "      <th>book_table</th>\n",
       "      <th>rate</th>\n",
       "      <th>votes</th>\n",
       "      <th>location</th>\n",
       "      <th>rest_type</th>\n",
       "      <th>approx_cost(for two people)</th>\n",
       "      <th>listed_in(type)</th>\n",
       "    </tr>\n",
       "  </thead>\n",
       "  <tbody>\n",
       "    <tr>\n",
       "      <th>0</th>\n",
       "      <td>3664</td>\n",
       "      <td>1</td>\n",
       "      <td>1</td>\n",
       "      <td>4.1</td>\n",
       "      <td>775</td>\n",
       "      <td>426.125000</td>\n",
       "      <td>27</td>\n",
       "      <td>800.0</td>\n",
       "      <td>1338.467742</td>\n",
       "    </tr>\n",
       "    <tr>\n",
       "      <th>1</th>\n",
       "      <td>6969</td>\n",
       "      <td>1</td>\n",
       "      <td>0</td>\n",
       "      <td>4.1</td>\n",
       "      <td>787</td>\n",
       "      <td>426.125000</td>\n",
       "      <td>27</td>\n",
       "      <td>800.0</td>\n",
       "      <td>1338.467742</td>\n",
       "    </tr>\n",
       "    <tr>\n",
       "      <th>2</th>\n",
       "      <td>6450</td>\n",
       "      <td>1</td>\n",
       "      <td>0</td>\n",
       "      <td>3.8</td>\n",
       "      <td>918</td>\n",
       "      <td>426.125000</td>\n",
       "      <td>22</td>\n",
       "      <td>800.0</td>\n",
       "      <td>1338.467742</td>\n",
       "    </tr>\n",
       "    <tr>\n",
       "      <th>3</th>\n",
       "      <td>198</td>\n",
       "      <td>0</td>\n",
       "      <td>0</td>\n",
       "      <td>3.7</td>\n",
       "      <td>88</td>\n",
       "      <td>426.125000</td>\n",
       "      <td>78</td>\n",
       "      <td>300.0</td>\n",
       "      <td>1338.467742</td>\n",
       "    </tr>\n",
       "    <tr>\n",
       "      <th>4</th>\n",
       "      <td>2919</td>\n",
       "      <td>0</td>\n",
       "      <td>0</td>\n",
       "      <td>3.8</td>\n",
       "      <td>166</td>\n",
       "      <td>346.759907</td>\n",
       "      <td>27</td>\n",
       "      <td>600.0</td>\n",
       "      <td>1338.467742</td>\n",
       "    </tr>\n",
       "  </tbody>\n",
       "</table>\n",
       "</div>"
      ],
      "text/plain": [
       "   name  online_order  book_table  rate  votes    location  rest_type  \\\n",
       "0  3664             1           1   4.1    775  426.125000         27   \n",
       "1  6969             1           0   4.1    787  426.125000         27   \n",
       "2  6450             1           0   3.8    918  426.125000         22   \n",
       "3   198             0           0   3.7     88  426.125000         78   \n",
       "4  2919             0           0   3.8    166  346.759907         27   \n",
       "\n",
       "   approx_cost(for two people)  listed_in(type)  \n",
       "0                        800.0      1338.467742  \n",
       "1                        800.0      1338.467742  \n",
       "2                        800.0      1338.467742  \n",
       "3                        300.0      1338.467742  \n",
       "4                        600.0      1338.467742  "
      ]
     },
     "execution_count": 30,
     "metadata": {},
     "output_type": "execute_result"
    }
   ],
   "source": [
    "d.name=LabelEncoder().fit_transform(d.name)\n",
    "d.online_order=d.online_order.map({'Yes':1,'No':0}) # replaces 'Yes' with 1 and 'No' with 0\n",
    "d.book_table=d.book_table.map({'Yes':1,'No':0}) # replaces 'Yes' with 1 and 'No' with 0\n",
    "d.location=d.location.map(dict(d.groupby('location')['approx_cost(for two people)'].mean()))\n",
    "# performs target encoding\n",
    "d.rest_type=LabelEncoder().fit_transform(d.rest_type)\n",
    "d['listed_in(type)']=d['listed_in(type)'].map(dict(d.groupby('listed_in(type)')\n",
    "                                                   ['approx_cost(for two people)'].mean()))\n",
    "# performs target encoding\n",
    "d.head()"
   ]
  },
  {
   "cell_type": "markdown",
   "id": "3b34da7a",
   "metadata": {},
   "source": [
    "### Splitting Data into Train and Test Sets"
   ]
  },
  {
   "cell_type": "code",
   "execution_count": 31,
   "id": "6933ab73",
   "metadata": {},
   "outputs": [
    {
     "name": "stdout",
     "output_type": "stream",
     "text": [
      "(22012, 8) (9435, 8) (22012,) (9435,)\n"
     ]
    }
   ],
   "source": [
    "x=d.drop('approx_cost(for two people)',axis=1)\n",
    "y=d['approx_cost(for two people)']\n",
    "xtrain,xtest,ytrain,ytest=train_test_split(x,y,test_size=.3,random_state=1)\n",
    "print(xtrain.shape,xtest.shape,ytrain.shape,ytest.shape)"
   ]
  },
  {
   "cell_type": "markdown",
   "id": "e731cedf",
   "metadata": {},
   "source": [
    "### Base Model"
   ]
  },
  {
   "cell_type": "code",
   "execution_count": 32,
   "id": "f3fe4462",
   "metadata": {},
   "outputs": [
    {
     "data": {
      "text/html": [
       "<table class=\"simpletable\">\n",
       "<caption>OLS Regression Results</caption>\n",
       "<tr>\n",
       "  <th>Dep. Variable:</th>    <td>approx_cost(for two people)</td> <th>  R-squared:         </th>  <td>   0.560</td>  \n",
       "</tr>\n",
       "<tr>\n",
       "  <th>Model:</th>                        <td>OLS</td>             <th>  Adj. R-squared:    </th>  <td>   0.560</td>  \n",
       "</tr>\n",
       "<tr>\n",
       "  <th>Method:</th>                  <td>Least Squares</td>        <th>  F-statistic:       </th>  <td>   3499.</td>  \n",
       "</tr>\n",
       "<tr>\n",
       "  <th>Date:</th>                  <td>Wed, 10 May 2023</td>       <th>  Prob (F-statistic):</th>   <td>  0.00</td>   \n",
       "</tr>\n",
       "<tr>\n",
       "  <th>Time:</th>                      <td>16:55:35</td>           <th>  Log-Likelihood:    </th> <td>-1.5766e+05</td>\n",
       "</tr>\n",
       "<tr>\n",
       "  <th>No. Observations:</th>           <td> 22012</td>            <th>  AIC:               </th>  <td>3.153e+05</td> \n",
       "</tr>\n",
       "<tr>\n",
       "  <th>Df Residuals:</th>               <td> 22003</td>            <th>  BIC:               </th>  <td>3.154e+05</td> \n",
       "</tr>\n",
       "<tr>\n",
       "  <th>Df Model:</th>                   <td>     8</td>            <th>                     </th>      <td> </td>     \n",
       "</tr>\n",
       "<tr>\n",
       "  <th>Covariance Type:</th>           <td>nonrobust</td>          <th>                     </th>      <td> </td>     \n",
       "</tr>\n",
       "</table>\n",
       "<table class=\"simpletable\">\n",
       "<tr>\n",
       "         <td></td>            <th>coef</th>     <th>std err</th>      <th>t</th>      <th>P>|t|</th>  <th>[0.025</th>    <th>0.975]</th>  \n",
       "</tr>\n",
       "<tr>\n",
       "  <th>const</th>           <td> -217.6451</td> <td>   24.771</td> <td>   -8.786</td> <td> 0.000</td> <td> -266.198</td> <td> -169.093</td>\n",
       "</tr>\n",
       "<tr>\n",
       "  <th>name</th>            <td>    0.0038</td> <td>    0.001</td> <td>    4.574</td> <td> 0.000</td> <td>    0.002</td> <td>    0.005</td>\n",
       "</tr>\n",
       "<tr>\n",
       "  <th>online_order</th>    <td>  -43.3750</td> <td>    4.415</td> <td>   -9.825</td> <td> 0.000</td> <td>  -52.028</td> <td>  -34.722</td>\n",
       "</tr>\n",
       "<tr>\n",
       "  <th>book_table</th>      <td>  487.3829</td> <td>    6.945</td> <td>   70.182</td> <td> 0.000</td> <td>  473.771</td> <td>  500.995</td>\n",
       "</tr>\n",
       "<tr>\n",
       "  <th>rate</th>            <td>   81.0170</td> <td>    6.286</td> <td>   12.889</td> <td> 0.000</td> <td>   68.697</td> <td>   93.337</td>\n",
       "</tr>\n",
       "<tr>\n",
       "  <th>votes</th>           <td>    0.0371</td> <td>    0.003</td> <td>   14.840</td> <td> 0.000</td> <td>    0.032</td> <td>    0.042</td>\n",
       "</tr>\n",
       "<tr>\n",
       "  <th>location</th>        <td>    0.4670</td> <td>    0.011</td> <td>   43.465</td> <td> 0.000</td> <td>    0.446</td> <td>    0.488</td>\n",
       "</tr>\n",
       "<tr>\n",
       "  <th>rest_type</th>       <td>   -2.6366</td> <td>    0.081</td> <td>  -32.608</td> <td> 0.000</td> <td>   -2.795</td> <td>   -2.478</td>\n",
       "</tr>\n",
       "<tr>\n",
       "  <th>listed_in(type)</th> <td>    0.4660</td> <td>    0.011</td> <td>   43.695</td> <td> 0.000</td> <td>    0.445</td> <td>    0.487</td>\n",
       "</tr>\n",
       "</table>\n",
       "<table class=\"simpletable\">\n",
       "<tr>\n",
       "  <th>Omnibus:</th>       <td>13443.165</td> <th>  Durbin-Watson:     </th>  <td>   1.989</td> \n",
       "</tr>\n",
       "<tr>\n",
       "  <th>Prob(Omnibus):</th>  <td> 0.000</td>   <th>  Jarque-Bera (JB):  </th> <td>306105.588</td>\n",
       "</tr>\n",
       "<tr>\n",
       "  <th>Skew:</th>           <td> 2.530</td>   <th>  Prob(JB):          </th>  <td>    0.00</td> \n",
       "</tr>\n",
       "<tr>\n",
       "  <th>Kurtosis:</th>       <td>20.554</td>   <th>  Cond. No.          </th>  <td>6.13e+04</td> \n",
       "</tr>\n",
       "</table><br/><br/>Notes:<br/>[1] Standard Errors assume that the covariance matrix of the errors is correctly specified.<br/>[2] The condition number is large, 6.13e+04. This might indicate that there are<br/>strong multicollinearity or other numerical problems."
      ],
      "text/plain": [
       "<class 'statsmodels.iolib.summary.Summary'>\n",
       "\"\"\"\n",
       "                                 OLS Regression Results                                \n",
       "=======================================================================================\n",
       "Dep. Variable:     approx_cost(for two people)   R-squared:                       0.560\n",
       "Model:                                     OLS   Adj. R-squared:                  0.560\n",
       "Method:                          Least Squares   F-statistic:                     3499.\n",
       "Date:                         Wed, 10 May 2023   Prob (F-statistic):               0.00\n",
       "Time:                                 16:55:35   Log-Likelihood:            -1.5766e+05\n",
       "No. Observations:                        22012   AIC:                         3.153e+05\n",
       "Df Residuals:                            22003   BIC:                         3.154e+05\n",
       "Df Model:                                    8                                         \n",
       "Covariance Type:                     nonrobust                                         \n",
       "===================================================================================\n",
       "                      coef    std err          t      P>|t|      [0.025      0.975]\n",
       "-----------------------------------------------------------------------------------\n",
       "const            -217.6451     24.771     -8.786      0.000    -266.198    -169.093\n",
       "name                0.0038      0.001      4.574      0.000       0.002       0.005\n",
       "online_order      -43.3750      4.415     -9.825      0.000     -52.028     -34.722\n",
       "book_table        487.3829      6.945     70.182      0.000     473.771     500.995\n",
       "rate               81.0170      6.286     12.889      0.000      68.697      93.337\n",
       "votes               0.0371      0.003     14.840      0.000       0.032       0.042\n",
       "location            0.4670      0.011     43.465      0.000       0.446       0.488\n",
       "rest_type          -2.6366      0.081    -32.608      0.000      -2.795      -2.478\n",
       "listed_in(type)     0.4660      0.011     43.695      0.000       0.445       0.487\n",
       "==============================================================================\n",
       "Omnibus:                    13443.165   Durbin-Watson:                   1.989\n",
       "Prob(Omnibus):                  0.000   Jarque-Bera (JB):           306105.588\n",
       "Skew:                           2.530   Prob(JB):                         0.00\n",
       "Kurtosis:                      20.554   Cond. No.                     6.13e+04\n",
       "==============================================================================\n",
       "\n",
       "Notes:\n",
       "[1] Standard Errors assume that the covariance matrix of the errors is correctly specified.\n",
       "[2] The condition number is large, 6.13e+04. This might indicate that there are\n",
       "strong multicollinearity or other numerical problems.\n",
       "\"\"\""
      ]
     },
     "execution_count": 32,
     "metadata": {},
     "output_type": "execute_result"
    }
   ],
   "source": [
    "o=OLS(ytrain,add_constant(xtrain)).fit()\n",
    "o.summary()"
   ]
  },
  {
   "cell_type": "markdown",
   "id": "eb28fcc1",
   "metadata": {},
   "source": [
    "**Inferences:**\n",
    "\n",
    "1. The R2 of the model tells us that it explains 56% variation in the target variable.\n",
    "2. The adjusted R2 is equal to the R2 and thus there is little to no noise in the data.\n",
    "3. The p-value of F-statistic is much less than 0.05 and thus, the model is significant for the prediction.\n",
    "4. P-values of all the variables are less than 0.05 and thus, they are significant for the prediction.\n",
    "5. The Durbin-Watson number is very close to 2, which means that there is no autocorrelation of errors present.\n",
    "6. The p-value of Jarque-Bera is much less than 0.05 and thus, the residuals are not normally distributed.\n",
    "\n",
    "We shall try to increase the R2 in the final model as it is relatively low."
   ]
  },
  {
   "cell_type": "markdown",
   "id": "fa1f27ef",
   "metadata": {},
   "source": [
    "### Final Model (Random Forest)"
   ]
  },
  {
   "cell_type": "code",
   "execution_count": 47,
   "id": "524fe93f",
   "metadata": {},
   "outputs": [
    {
     "name": "stdout",
     "output_type": "stream",
     "text": [
      "R2 for train set = 0.7309290144385832\n"
     ]
    }
   ],
   "source": [
    "r=RandomForestRegressor(max_depth=5,random_state=1).fit(xtrain,ytrain) \n",
    "# fits Random Forest model with max depth 5\n",
    "pred=r.predict(xtrain)\n",
    "print('R2 for train set =',r2_score(ytrain,pred))"
   ]
  },
  {
   "cell_type": "markdown",
   "id": "48227244",
   "metadata": {},
   "source": [
    "We can see that the R2 of the model has increased to 0.73 which tells us that the model explains 73% variation in the target variable. Thus, the model is performing fairly good. We shall now perform the prediction on the test set."
   ]
  },
  {
   "cell_type": "code",
   "execution_count": 48,
   "id": "384b4622",
   "metadata": {},
   "outputs": [
    {
     "name": "stdout",
     "output_type": "stream",
     "text": [
      "R2 for test set = 0.7340438317042379\n"
     ]
    }
   ],
   "source": [
    "pred=r.predict(xtest)\n",
    "print('R2 for test set =',r2_score(ytest,pred))"
   ]
  },
  {
   "cell_type": "markdown",
   "id": "db16bfdb",
   "metadata": {},
   "source": [
    "### Business Understanding\n",
    "\n",
    "1. Restaurants should try to promote online orders as much as possible by advertising their online services and providing discounts.\n",
    "2. Invest in abundant seating so that customers do not feel the need of booking tables.\n",
    "3. Enable delivery option and provide more variety in desserts and dining food items."
   ]
  },
  {
   "cell_type": "markdown",
   "id": "f5c4ef0a",
   "metadata": {},
   "source": [
    "-------------"
   ]
  },
  {
   "cell_type": "markdown",
   "id": "0835f750",
   "metadata": {},
   "source": [
    "# Section B: Classification "
   ]
  },
  {
   "cell_type": "markdown",
   "id": "f3b7bd87",
   "metadata": {},
   "source": [
    "**Problem Statement:**\n",
    "\n",
    "The model that you built in the above case study has gone to deployment and Zomato has \n",
    "been impressed with your data analysis and Zomoto has been believing that your analysis \n",
    "going to be impactful. Now Zomato has been observing the orders happening online and \n",
    "offline, Due to offline orders, Zomato is not able to attract customers with diverse items and \n",
    "offers, and the user subscription also getting low. so it has decided to give you the project \n",
    "on the same. Now the problem statement is that Zomato wants to know whether the \n",
    "customer would order the orders online or offline so that Zomato can take further \n",
    "strategies to improve the online order.\n",
    "\n",
    "**Objective:**\n",
    "\n",
    "The Aim is to classify the orders that have been ordered online and offline. And \n",
    "identify the patterns that lead to orders online orders as well as offline. Your model should \n",
    "be able to classify the classes effectively."
   ]
  },
  {
   "cell_type": "markdown",
   "id": "8634f598",
   "metadata": {},
   "source": [
    "#### Metrics"
   ]
  },
  {
   "cell_type": "markdown",
   "id": "eed2b8d9",
   "metadata": {},
   "source": [
    "Since this is a classification problem, the metrics we can use for model performance are:\n",
    "\n",
    "1. Confusion matrix\n",
    "2. Cross entropy\n",
    "3. Reciever Operating Characteristics (ROC) Curve"
   ]
  },
  {
   "cell_type": "markdown",
   "id": "d7a96f8e",
   "metadata": {},
   "source": [
    "We shall use the copy of the cleaned data from Section A."
   ]
  },
  {
   "cell_type": "code",
   "execution_count": 27,
   "id": "6f35c5bb",
   "metadata": {},
   "outputs": [
    {
     "data": {
      "text/html": [
       "<div>\n",
       "<style scoped>\n",
       "    .dataframe tbody tr th:only-of-type {\n",
       "        vertical-align: middle;\n",
       "    }\n",
       "\n",
       "    .dataframe tbody tr th {\n",
       "        vertical-align: top;\n",
       "    }\n",
       "\n",
       "    .dataframe thead th {\n",
       "        text-align: right;\n",
       "    }\n",
       "</style>\n",
       "<table border=\"1\" class=\"dataframe\">\n",
       "  <thead>\n",
       "    <tr style=\"text-align: right;\">\n",
       "      <th></th>\n",
       "      <th>name</th>\n",
       "      <th>online_order</th>\n",
       "      <th>book_table</th>\n",
       "      <th>rate</th>\n",
       "      <th>votes</th>\n",
       "      <th>location</th>\n",
       "      <th>rest_type</th>\n",
       "      <th>approx_cost(for two people)</th>\n",
       "      <th>listed_in(type)</th>\n",
       "    </tr>\n",
       "  </thead>\n",
       "  <tbody>\n",
       "    <tr>\n",
       "      <th>0</th>\n",
       "      <td>Jalsa</td>\n",
       "      <td>Yes</td>\n",
       "      <td>Yes</td>\n",
       "      <td>4.1</td>\n",
       "      <td>775</td>\n",
       "      <td>Banashankari</td>\n",
       "      <td>Casual Dining</td>\n",
       "      <td>800.0</td>\n",
       "      <td>Buffet</td>\n",
       "    </tr>\n",
       "    <tr>\n",
       "      <th>1</th>\n",
       "      <td>Spice Elephant</td>\n",
       "      <td>Yes</td>\n",
       "      <td>No</td>\n",
       "      <td>4.1</td>\n",
       "      <td>787</td>\n",
       "      <td>Banashankari</td>\n",
       "      <td>Casual Dining</td>\n",
       "      <td>800.0</td>\n",
       "      <td>Buffet</td>\n",
       "    </tr>\n",
       "    <tr>\n",
       "      <th>2</th>\n",
       "      <td>San Churro Cafe</td>\n",
       "      <td>Yes</td>\n",
       "      <td>No</td>\n",
       "      <td>3.8</td>\n",
       "      <td>918</td>\n",
       "      <td>Banashankari</td>\n",
       "      <td>Cafe, Casual Dining</td>\n",
       "      <td>800.0</td>\n",
       "      <td>Buffet</td>\n",
       "    </tr>\n",
       "    <tr>\n",
       "      <th>3</th>\n",
       "      <td>Addhuri Udupi Bhojana</td>\n",
       "      <td>No</td>\n",
       "      <td>No</td>\n",
       "      <td>3.7</td>\n",
       "      <td>88</td>\n",
       "      <td>Banashankari</td>\n",
       "      <td>Quick Bites</td>\n",
       "      <td>300.0</td>\n",
       "      <td>Buffet</td>\n",
       "    </tr>\n",
       "    <tr>\n",
       "      <th>4</th>\n",
       "      <td>Grand Village</td>\n",
       "      <td>No</td>\n",
       "      <td>No</td>\n",
       "      <td>3.8</td>\n",
       "      <td>166</td>\n",
       "      <td>Basavanagudi</td>\n",
       "      <td>Casual Dining</td>\n",
       "      <td>600.0</td>\n",
       "      <td>Buffet</td>\n",
       "    </tr>\n",
       "  </tbody>\n",
       "</table>\n",
       "</div>"
      ],
      "text/plain": [
       "                    name online_order book_table  rate  votes      location  \\\n",
       "0                  Jalsa          Yes        Yes   4.1    775  Banashankari   \n",
       "1         Spice Elephant          Yes         No   4.1    787  Banashankari   \n",
       "2        San Churro Cafe          Yes         No   3.8    918  Banashankari   \n",
       "3  Addhuri Udupi Bhojana           No         No   3.7     88  Banashankari   \n",
       "4          Grand Village           No         No   3.8    166  Basavanagudi   \n",
       "\n",
       "             rest_type  approx_cost(for two people) listed_in(type)  \n",
       "0        Casual Dining                        800.0          Buffet  \n",
       "1        Casual Dining                        800.0          Buffet  \n",
       "2  Cafe, Casual Dining                        800.0          Buffet  \n",
       "3          Quick Bites                        300.0          Buffet  \n",
       "4        Casual Dining                        600.0          Buffet  "
      ]
     },
     "execution_count": 27,
     "metadata": {},
     "output_type": "execute_result"
    }
   ],
   "source": [
    "d=d_clean.copy()\n",
    "d.head()"
   ]
  },
  {
   "cell_type": "markdown",
   "id": "faa50846",
   "metadata": {},
   "source": [
    "### Analysing the Target Variable"
   ]
  },
  {
   "cell_type": "code",
   "execution_count": 28,
   "id": "245c4f38",
   "metadata": {},
   "outputs": [
    {
     "data": {
      "image/png": "[encoded data removed]",
      "text/plain": [
       "<Figure size 640x480 with 1 Axes>"
      ]
     },
     "metadata": {},
     "output_type": "display_data"
    }
   ],
   "source": [
    "sns.countplot(x=d.online_order)\n",
    "plt.show()"
   ]
  },
  {
   "cell_type": "markdown",
   "id": "eca67793",
   "metadata": {},
   "source": [
    "We can see that there are more records of online orders in the data than offline which slightly imabalances the target variable. However, it is not too imbalanced and thus, we can continue with our analysis without making any changes."
   ]
  },
  {
   "cell_type": "markdown",
   "id": "09aa39af",
   "metadata": {},
   "source": [
    "## Bivariate Analysis"
   ]
  },
  {
   "cell_type": "code",
   "execution_count": 29,
   "id": "84c0d9d7",
   "metadata": {},
   "outputs": [
    {
     "data": {
      "image/png": "[encoded data removed]",
      "text/plain": [
       "<Figure size 900x500 with 2 Axes>"
      ]
     },
     "metadata": {},
     "output_type": "display_data"
    }
   ],
   "source": [
    "n=1\n",
    "plt.figure(figsize=(9,5))\n",
    "for i in ['book_table','listed_in(type)']:\n",
    "    ax=plt.subplot(1,2,n) # selects axes for a subplot\n",
    "    pd.crosstab(d[i],d.online_order).plot.bar(ax=ax) # plots a grouped bar chart on the selected axes\n",
    "    plt.xticks(rotation=90)\n",
    "    n+=1\n",
    "plt.tight_layout()\n",
    "plt.show()"
   ]
  },
  {
   "cell_type": "markdown",
   "id": "c4ec8ed2",
   "metadata": {},
   "source": [
    "**Inferences:**\n",
    "\n",
    "1. Proportion of online orders is roughly the same irrespective of table booking.\n",
    "2. Online orders are more than double the offline orders in delivery type restaurants. \n",
    "3. 'Buffet', 'Drinks & nightlife' and 'Pubs and bars' type of restaurants have more offline orders than online."
   ]
  },
  {
   "cell_type": "code",
   "execution_count": 30,
   "id": "7583e440",
   "metadata": {},
   "outputs": [
    {
     "data": {
      "image/png": "[encoded data removed]",
      "text/plain": [
       "<Figure size 800x800 with 3 Axes>"
      ]
     },
     "metadata": {},
     "output_type": "display_data"
    }
   ],
   "source": [
    "n=1\n",
    "plt.figure(figsize=(8,8))\n",
    "for i in ['rate','votes','approx_cost(for two people)']:\n",
    "    plt.subplot(3,1,n)\n",
    "    sns.boxplot(x=d[i],y=d.online_order)\n",
    "    n+=1\n",
    "plt.tight_layout()\n",
    "plt.show()"
   ]
  },
  {
   "cell_type": "markdown",
   "id": "3e34d802",
   "metadata": {},
   "source": [
    "**Inferences:**\n",
    "\n",
    "1. Ratings of restaurants do not vary much depending on type of orders.\n",
    "2. Similarly, number of restaurant votes does not depend on type of orders.\n",
    "3. Approximate cost does not vary too much depending on whether orders are online or not."
   ]
  },
  {
   "cell_type": "markdown",
   "id": "365c8acc",
   "metadata": {},
   "source": [
    "## Clustering"
   ]
  },
  {
   "cell_type": "code",
   "execution_count": 31,
   "id": "0999df96",
   "metadata": {},
   "outputs": [
    {
     "data": {
      "text/html": [
       "<div>\n",
       "<style scoped>\n",
       "    .dataframe tbody tr th:only-of-type {\n",
       "        vertical-align: middle;\n",
       "    }\n",
       "\n",
       "    .dataframe tbody tr th {\n",
       "        vertical-align: top;\n",
       "    }\n",
       "\n",
       "    .dataframe thead th {\n",
       "        text-align: right;\n",
       "    }\n",
       "</style>\n",
       "<table border=\"1\" class=\"dataframe\">\n",
       "  <thead>\n",
       "    <tr style=\"text-align: right;\">\n",
       "      <th></th>\n",
       "      <th>rate</th>\n",
       "      <th>votes</th>\n",
       "      <th>approx_cost(for two people)</th>\n",
       "    </tr>\n",
       "  </thead>\n",
       "  <tbody>\n",
       "    <tr>\n",
       "      <th>0</th>\n",
       "      <td>4.1</td>\n",
       "      <td>775</td>\n",
       "      <td>800.0</td>\n",
       "    </tr>\n",
       "    <tr>\n",
       "      <th>1</th>\n",
       "      <td>4.1</td>\n",
       "      <td>787</td>\n",
       "      <td>800.0</td>\n",
       "    </tr>\n",
       "    <tr>\n",
       "      <th>2</th>\n",
       "      <td>3.8</td>\n",
       "      <td>918</td>\n",
       "      <td>800.0</td>\n",
       "    </tr>\n",
       "    <tr>\n",
       "      <th>3</th>\n",
       "      <td>3.7</td>\n",
       "      <td>88</td>\n",
       "      <td>300.0</td>\n",
       "    </tr>\n",
       "    <tr>\n",
       "      <th>4</th>\n",
       "      <td>3.8</td>\n",
       "      <td>166</td>\n",
       "      <td>600.0</td>\n",
       "    </tr>\n",
       "  </tbody>\n",
       "</table>\n",
       "</div>"
      ],
      "text/plain": [
       "   rate  votes  approx_cost(for two people)\n",
       "0   4.1    775                        800.0\n",
       "1   4.1    787                        800.0\n",
       "2   3.8    918                        800.0\n",
       "3   3.7     88                        300.0\n",
       "4   3.8    166                        600.0"
      ]
     },
     "execution_count": 31,
     "metadata": {},
     "output_type": "execute_result"
    }
   ],
   "source": [
    "d_num=d.select_dtypes('number') # selects all numeric variables\n",
    "d_num.head()"
   ]
  },
  {
   "cell_type": "markdown",
   "id": "1710c6a4",
   "metadata": {},
   "source": [
    "#### Scaling Numeric Data"
   ]
  },
  {
   "cell_type": "code",
   "execution_count": 32,
   "id": "cbb6c4a1",
   "metadata": {},
   "outputs": [
    {
     "data": {
      "text/html": [
       "<div>\n",
       "<style scoped>\n",
       "    .dataframe tbody tr th:only-of-type {\n",
       "        vertical-align: middle;\n",
       "    }\n",
       "\n",
       "    .dataframe tbody tr th {\n",
       "        vertical-align: top;\n",
       "    }\n",
       "\n",
       "    .dataframe thead th {\n",
       "        text-align: right;\n",
       "    }\n",
       "</style>\n",
       "<table border=\"1\" class=\"dataframe\">\n",
       "  <thead>\n",
       "    <tr style=\"text-align: right;\">\n",
       "      <th></th>\n",
       "      <th>rate</th>\n",
       "      <th>votes</th>\n",
       "      <th>approx_cost(for two people)</th>\n",
       "    </tr>\n",
       "  </thead>\n",
       "  <tbody>\n",
       "    <tr>\n",
       "      <th>0</th>\n",
       "      <td>0.856554</td>\n",
       "      <td>0.388967</td>\n",
       "      <td>0.409882</td>\n",
       "    </tr>\n",
       "    <tr>\n",
       "      <th>1</th>\n",
       "      <td>0.856554</td>\n",
       "      <td>0.401171</td>\n",
       "      <td>0.409882</td>\n",
       "    </tr>\n",
       "    <tr>\n",
       "      <th>2</th>\n",
       "      <td>0.120596</td>\n",
       "      <td>0.534403</td>\n",
       "      <td>0.409882</td>\n",
       "    </tr>\n",
       "    <tr>\n",
       "      <th>3</th>\n",
       "      <td>-0.124723</td>\n",
       "      <td>-0.309737</td>\n",
       "      <td>-0.649301</td>\n",
       "    </tr>\n",
       "    <tr>\n",
       "      <th>4</th>\n",
       "      <td>0.120596</td>\n",
       "      <td>-0.230408</td>\n",
       "      <td>-0.013791</td>\n",
       "    </tr>\n",
       "  </tbody>\n",
       "</table>\n",
       "</div>"
      ],
      "text/plain": [
       "       rate     votes  approx_cost(for two people)\n",
       "0  0.856554  0.388967                     0.409882\n",
       "1  0.856554  0.401171                     0.409882\n",
       "2  0.120596  0.534403                     0.409882\n",
       "3 -0.124723 -0.309737                    -0.649301\n",
       "4  0.120596 -0.230408                    -0.013791"
      ]
     },
     "execution_count": 32,
     "metadata": {},
     "output_type": "execute_result"
    }
   ],
   "source": [
    "d_norm=d_num.apply(lambda x:(x-x.mean())/x.std()) # performs standard scaling\n",
    "d_norm.head()"
   ]
  },
  {
   "cell_type": "markdown",
   "id": "c385c1b8",
   "metadata": {},
   "source": [
    "#### Elbow Plot"
   ]
  },
  {
   "cell_type": "code",
   "execution_count": 33,
   "id": "2b53cb11",
   "metadata": {},
   "outputs": [
    {
     "data": {
      "image/png": "[encoded data removed]",
      "text/plain": [
       "<Figure size 640x480 with 1 Axes>"
      ]
     },
     "metadata": {},
     "output_type": "display_data"
    }
   ],
   "source": [
    "w=[]\n",
    "for i in range(2,8):\n",
    "    k=KMeans(i,n_init='auto',random_state=1).fit(d_norm) # fits K-Means model with n_init = 'auto'\n",
    "    w+=[k.inertia_]\n",
    "plt.plot(range(2,8),w,'x-') # plots line graph of number of clusters against inertia\n",
    "plt.xticks(range(2,8)) # sets x-axis ticks\n",
    "plt.xlabel('Number of clusters')\n",
    "plt.ylabel('Inertia')\n",
    "plt.show()"
   ]
  },
  {
   "cell_type": "markdown",
   "id": "3d77b78b",
   "metadata": {},
   "source": [
    "We can see that the elbow point in the plot of inertia against number of clusters corresponds to number of clusters = 5. Thus, we shall take the optimal number of clusters as 5 and perform the clustering."
   ]
  },
  {
   "cell_type": "code",
   "execution_count": 34,
   "id": "d96d7c5c",
   "metadata": {},
   "outputs": [
    {
     "data": {
      "text/html": [
       "<div>\n",
       "<style scoped>\n",
       "    .dataframe tbody tr th:only-of-type {\n",
       "        vertical-align: middle;\n",
       "    }\n",
       "\n",
       "    .dataframe tbody tr th {\n",
       "        vertical-align: top;\n",
       "    }\n",
       "\n",
       "    .dataframe thead th {\n",
       "        text-align: right;\n",
       "    }\n",
       "</style>\n",
       "<table border=\"1\" class=\"dataframe\">\n",
       "  <thead>\n",
       "    <tr style=\"text-align: right;\">\n",
       "      <th></th>\n",
       "      <th>name</th>\n",
       "      <th>online_order</th>\n",
       "      <th>book_table</th>\n",
       "      <th>rate</th>\n",
       "      <th>votes</th>\n",
       "      <th>location</th>\n",
       "      <th>rest_type</th>\n",
       "      <th>approx_cost(for two people)</th>\n",
       "      <th>listed_in(type)</th>\n",
       "      <th>cluster</th>\n",
       "    </tr>\n",
       "  </thead>\n",
       "  <tbody>\n",
       "    <tr>\n",
       "      <th>0</th>\n",
       "      <td>Jalsa</td>\n",
       "      <td>Yes</td>\n",
       "      <td>Yes</td>\n",
       "      <td>4.1</td>\n",
       "      <td>775</td>\n",
       "      <td>Banashankari</td>\n",
       "      <td>Casual Dining</td>\n",
       "      <td>800.0</td>\n",
       "      <td>Buffet</td>\n",
       "      <td>1</td>\n",
       "    </tr>\n",
       "    <tr>\n",
       "      <th>1</th>\n",
       "      <td>Spice Elephant</td>\n",
       "      <td>Yes</td>\n",
       "      <td>No</td>\n",
       "      <td>4.1</td>\n",
       "      <td>787</td>\n",
       "      <td>Banashankari</td>\n",
       "      <td>Casual Dining</td>\n",
       "      <td>800.0</td>\n",
       "      <td>Buffet</td>\n",
       "      <td>1</td>\n",
       "    </tr>\n",
       "    <tr>\n",
       "      <th>2</th>\n",
       "      <td>San Churro Cafe</td>\n",
       "      <td>Yes</td>\n",
       "      <td>No</td>\n",
       "      <td>3.8</td>\n",
       "      <td>918</td>\n",
       "      <td>Banashankari</td>\n",
       "      <td>Cafe, Casual Dining</td>\n",
       "      <td>800.0</td>\n",
       "      <td>Buffet</td>\n",
       "      <td>1</td>\n",
       "    </tr>\n",
       "    <tr>\n",
       "      <th>3</th>\n",
       "      <td>Addhuri Udupi Bhojana</td>\n",
       "      <td>No</td>\n",
       "      <td>No</td>\n",
       "      <td>3.7</td>\n",
       "      <td>88</td>\n",
       "      <td>Banashankari</td>\n",
       "      <td>Quick Bites</td>\n",
       "      <td>300.0</td>\n",
       "      <td>Buffet</td>\n",
       "      <td>0</td>\n",
       "    </tr>\n",
       "    <tr>\n",
       "      <th>4</th>\n",
       "      <td>Grand Village</td>\n",
       "      <td>No</td>\n",
       "      <td>No</td>\n",
       "      <td>3.8</td>\n",
       "      <td>166</td>\n",
       "      <td>Basavanagudi</td>\n",
       "      <td>Casual Dining</td>\n",
       "      <td>600.0</td>\n",
       "      <td>Buffet</td>\n",
       "      <td>0</td>\n",
       "    </tr>\n",
       "  </tbody>\n",
       "</table>\n",
       "</div>"
      ],
      "text/plain": [
       "                    name online_order book_table  rate  votes      location  \\\n",
       "0                  Jalsa          Yes        Yes   4.1    775  Banashankari   \n",
       "1         Spice Elephant          Yes         No   4.1    787  Banashankari   \n",
       "2        San Churro Cafe          Yes         No   3.8    918  Banashankari   \n",
       "3  Addhuri Udupi Bhojana           No         No   3.7     88  Banashankari   \n",
       "4          Grand Village           No         No   3.8    166  Basavanagudi   \n",
       "\n",
       "             rest_type  approx_cost(for two people) listed_in(type)  cluster  \n",
       "0        Casual Dining                        800.0          Buffet        1  \n",
       "1        Casual Dining                        800.0          Buffet        1  \n",
       "2  Cafe, Casual Dining                        800.0          Buffet        1  \n",
       "3          Quick Bites                        300.0          Buffet        0  \n",
       "4        Casual Dining                        600.0          Buffet        0  "
      ]
     },
     "execution_count": 34,
     "metadata": {},
     "output_type": "execute_result"
    }
   ],
   "source": [
    "k=KMeans(5,n_init='auto',random_state=1).fit(d_norm)\n",
    "d['cluster']=k.labels_\n",
    "d.head()"
   ]
  },
  {
   "cell_type": "markdown",
   "id": "d0718260",
   "metadata": {},
   "source": [
    "### Interpreting the Clusters"
   ]
  },
  {
   "cell_type": "code",
   "execution_count": 35,
   "id": "607a0a1a",
   "metadata": {},
   "outputs": [
    {
     "data": {
      "text/html": [
       "<div>\n",
       "<style scoped>\n",
       "    .dataframe tbody tr th:only-of-type {\n",
       "        vertical-align: middle;\n",
       "    }\n",
       "\n",
       "    .dataframe tbody tr th {\n",
       "        vertical-align: top;\n",
       "    }\n",
       "\n",
       "    .dataframe thead th {\n",
       "        text-align: right;\n",
       "    }\n",
       "</style>\n",
       "<table border=\"1\" class=\"dataframe\">\n",
       "  <thead>\n",
       "    <tr style=\"text-align: right;\">\n",
       "      <th></th>\n",
       "      <th>rate</th>\n",
       "      <th>votes</th>\n",
       "      <th>approx_cost(for two people)</th>\n",
       "      <th>cluster</th>\n",
       "    </tr>\n",
       "  </thead>\n",
       "  <tbody>\n",
       "    <tr>\n",
       "      <th>count</th>\n",
       "      <td>14883.000000</td>\n",
       "      <td>14883.000000</td>\n",
       "      <td>14883.00000</td>\n",
       "      <td>14883.0</td>\n",
       "    </tr>\n",
       "    <tr>\n",
       "      <th>mean</th>\n",
       "      <td>3.730740</td>\n",
       "      <td>71.943358</td>\n",
       "      <td>386.47645</td>\n",
       "      <td>0.0</td>\n",
       "    </tr>\n",
       "    <tr>\n",
       "      <th>std</th>\n",
       "      <td>0.139017</td>\n",
       "      <td>115.755435</td>\n",
       "      <td>183.97463</td>\n",
       "      <td>0.0</td>\n",
       "    </tr>\n",
       "    <tr>\n",
       "      <th>min</th>\n",
       "      <td>3.500000</td>\n",
       "      <td>0.000000</td>\n",
       "      <td>40.00000</td>\n",
       "      <td>0.0</td>\n",
       "    </tr>\n",
       "    <tr>\n",
       "      <th>25%</th>\n",
       "      <td>3.700000</td>\n",
       "      <td>0.000000</td>\n",
       "      <td>250.00000</td>\n",
       "      <td>0.0</td>\n",
       "    </tr>\n",
       "    <tr>\n",
       "      <th>50%</th>\n",
       "      <td>3.700000</td>\n",
       "      <td>28.000000</td>\n",
       "      <td>350.00000</td>\n",
       "      <td>0.0</td>\n",
       "    </tr>\n",
       "    <tr>\n",
       "      <th>75%</th>\n",
       "      <td>3.800000</td>\n",
       "      <td>90.000000</td>\n",
       "      <td>500.00000</td>\n",
       "      <td>0.0</td>\n",
       "    </tr>\n",
       "    <tr>\n",
       "      <th>max</th>\n",
       "      <td>4.200000</td>\n",
       "      <td>1218.000000</td>\n",
       "      <td>1300.00000</td>\n",
       "      <td>0.0</td>\n",
       "    </tr>\n",
       "  </tbody>\n",
       "</table>\n",
       "</div>"
      ],
      "text/plain": [
       "               rate         votes  approx_cost(for two people)  cluster\n",
       "count  14883.000000  14883.000000                  14883.00000  14883.0\n",
       "mean       3.730740     71.943358                    386.47645      0.0\n",
       "std        0.139017    115.755435                    183.97463      0.0\n",
       "min        3.500000      0.000000                     40.00000      0.0\n",
       "25%        3.700000      0.000000                    250.00000      0.0\n",
       "50%        3.700000     28.000000                    350.00000      0.0\n",
       "75%        3.800000     90.000000                    500.00000      0.0\n",
       "max        4.200000   1218.000000                   1300.00000      0.0"
      ]
     },
     "execution_count": 35,
     "metadata": {},
     "output_type": "execute_result"
    }
   ],
   "source": [
    "d[d.cluster==0].describe()"
   ]
  },
  {
   "cell_type": "markdown",
   "id": "7f3d2055",
   "metadata": {},
   "source": [
    "We see that cluster 0 has orders from medium rated, less voted and low-cost restaurants."
   ]
  },
  {
   "cell_type": "code",
   "execution_count": 36,
   "id": "95de3fd9",
   "metadata": {},
   "outputs": [
    {
     "data": {
      "text/html": [
       "<div>\n",
       "<style scoped>\n",
       "    .dataframe tbody tr th:only-of-type {\n",
       "        vertical-align: middle;\n",
       "    }\n",
       "\n",
       "    .dataframe tbody tr th {\n",
       "        vertical-align: top;\n",
       "    }\n",
       "\n",
       "    .dataframe thead th {\n",
       "        text-align: right;\n",
       "    }\n",
       "</style>\n",
       "<table border=\"1\" class=\"dataframe\">\n",
       "  <thead>\n",
       "    <tr style=\"text-align: right;\">\n",
       "      <th></th>\n",
       "      <th>rate</th>\n",
       "      <th>votes</th>\n",
       "      <th>approx_cost(for two people)</th>\n",
       "      <th>cluster</th>\n",
       "    </tr>\n",
       "  </thead>\n",
       "  <tbody>\n",
       "    <tr>\n",
       "      <th>count</th>\n",
       "      <td>6384.000000</td>\n",
       "      <td>6384.000000</td>\n",
       "      <td>6384.000000</td>\n",
       "      <td>6384.0</td>\n",
       "    </tr>\n",
       "    <tr>\n",
       "      <th>mean</th>\n",
       "      <td>4.133960</td>\n",
       "      <td>631.610119</td>\n",
       "      <td>729.738409</td>\n",
       "      <td>1.0</td>\n",
       "    </tr>\n",
       "    <tr>\n",
       "      <th>std</th>\n",
       "      <td>0.192403</td>\n",
       "      <td>593.456343</td>\n",
       "      <td>255.426846</td>\n",
       "      <td>0.0</td>\n",
       "    </tr>\n",
       "    <tr>\n",
       "      <th>min</th>\n",
       "      <td>3.500000</td>\n",
       "      <td>0.000000</td>\n",
       "      <td>100.000000</td>\n",
       "      <td>1.0</td>\n",
       "    </tr>\n",
       "    <tr>\n",
       "      <th>25%</th>\n",
       "      <td>4.000000</td>\n",
       "      <td>202.000000</td>\n",
       "      <td>500.000000</td>\n",
       "      <td>1.0</td>\n",
       "    </tr>\n",
       "    <tr>\n",
       "      <th>50%</th>\n",
       "      <td>4.100000</td>\n",
       "      <td>447.000000</td>\n",
       "      <td>750.000000</td>\n",
       "      <td>1.0</td>\n",
       "    </tr>\n",
       "    <tr>\n",
       "      <th>75%</th>\n",
       "      <td>4.300000</td>\n",
       "      <td>845.500000</td>\n",
       "      <td>900.000000</td>\n",
       "      <td>1.0</td>\n",
       "    </tr>\n",
       "    <tr>\n",
       "      <th>max</th>\n",
       "      <td>4.750000</td>\n",
       "      <td>3128.000000</td>\n",
       "      <td>1300.000000</td>\n",
       "      <td>1.0</td>\n",
       "    </tr>\n",
       "  </tbody>\n",
       "</table>\n",
       "</div>"
      ],
      "text/plain": [
       "              rate        votes  approx_cost(for two people)  cluster\n",
       "count  6384.000000  6384.000000                  6384.000000   6384.0\n",
       "mean      4.133960   631.610119                   729.738409      1.0\n",
       "std       0.192403   593.456343                   255.426846      0.0\n",
       "min       3.500000     0.000000                   100.000000      1.0\n",
       "25%       4.000000   202.000000                   500.000000      1.0\n",
       "50%       4.100000   447.000000                   750.000000      1.0\n",
       "75%       4.300000   845.500000                   900.000000      1.0\n",
       "max       4.750000  3128.000000                  1300.000000      1.0"
      ]
     },
     "execution_count": 36,
     "metadata": {},
     "output_type": "execute_result"
    }
   ],
   "source": [
    "d[d.cluster==1].describe()"
   ]
  },
  {
   "cell_type": "markdown",
   "id": "b91f6e41",
   "metadata": {},
   "source": [
    "We see that cluster 1 has orders from high rated, slightly less voted and medium-cost restaurants."
   ]
  },
  {
   "cell_type": "code",
   "execution_count": 37,
   "id": "58bfc53c",
   "metadata": {
    "scrolled": true
   },
   "outputs": [
    {
     "data": {
      "text/html": [
       "<div>\n",
       "<style scoped>\n",
       "    .dataframe tbody tr th:only-of-type {\n",
       "        vertical-align: middle;\n",
       "    }\n",
       "\n",
       "    .dataframe tbody tr th {\n",
       "        vertical-align: top;\n",
       "    }\n",
       "\n",
       "    .dataframe thead th {\n",
       "        text-align: right;\n",
       "    }\n",
       "</style>\n",
       "<table border=\"1\" class=\"dataframe\">\n",
       "  <thead>\n",
       "    <tr style=\"text-align: right;\">\n",
       "      <th></th>\n",
       "      <th>rate</th>\n",
       "      <th>votes</th>\n",
       "      <th>approx_cost(for two people)</th>\n",
       "      <th>cluster</th>\n",
       "    </tr>\n",
       "  </thead>\n",
       "  <tbody>\n",
       "    <tr>\n",
       "      <th>count</th>\n",
       "      <td>756.000000</td>\n",
       "      <td>756.000000</td>\n",
       "      <td>756.000000</td>\n",
       "      <td>756.0</td>\n",
       "    </tr>\n",
       "    <tr>\n",
       "      <th>mean</th>\n",
       "      <td>4.444643</td>\n",
       "      <td>5208.646825</td>\n",
       "      <td>1280.952381</td>\n",
       "      <td>2.0</td>\n",
       "    </tr>\n",
       "    <tr>\n",
       "      <th>std</th>\n",
       "      <td>0.214139</td>\n",
       "      <td>2515.274201</td>\n",
       "      <td>468.442133</td>\n",
       "      <td>0.0</td>\n",
       "    </tr>\n",
       "    <tr>\n",
       "      <th>min</th>\n",
       "      <td>3.700000</td>\n",
       "      <td>2921.000000</td>\n",
       "      <td>150.000000</td>\n",
       "      <td>2.0</td>\n",
       "    </tr>\n",
       "    <tr>\n",
       "      <th>25%</th>\n",
       "      <td>4.300000</td>\n",
       "      <td>3616.250000</td>\n",
       "      <td>900.000000</td>\n",
       "      <td>2.0</td>\n",
       "    </tr>\n",
       "    <tr>\n",
       "      <th>50%</th>\n",
       "      <td>4.500000</td>\n",
       "      <td>4410.000000</td>\n",
       "      <td>1400.000000</td>\n",
       "      <td>2.0</td>\n",
       "    </tr>\n",
       "    <tr>\n",
       "      <th>75%</th>\n",
       "      <td>4.600000</td>\n",
       "      <td>6052.500000</td>\n",
       "      <td>1600.000000</td>\n",
       "      <td>2.0</td>\n",
       "    </tr>\n",
       "    <tr>\n",
       "      <th>max</th>\n",
       "      <td>4.750000</td>\n",
       "      <td>16832.000000</td>\n",
       "      <td>2600.000000</td>\n",
       "      <td>2.0</td>\n",
       "    </tr>\n",
       "  </tbody>\n",
       "</table>\n",
       "</div>"
      ],
      "text/plain": [
       "             rate         votes  approx_cost(for two people)  cluster\n",
       "count  756.000000    756.000000                   756.000000    756.0\n",
       "mean     4.444643   5208.646825                  1280.952381      2.0\n",
       "std      0.214139   2515.274201                   468.442133      0.0\n",
       "min      3.700000   2921.000000                   150.000000      2.0\n",
       "25%      4.300000   3616.250000                   900.000000      2.0\n",
       "50%      4.500000   4410.000000                  1400.000000      2.0\n",
       "75%      4.600000   6052.500000                  1600.000000      2.0\n",
       "max      4.750000  16832.000000                  2600.000000      2.0"
      ]
     },
     "execution_count": 37,
     "metadata": {},
     "output_type": "execute_result"
    }
   ],
   "source": [
    "d[d.cluster==2].describe()"
   ]
  },
  {
   "cell_type": "markdown",
   "id": "89d951d3",
   "metadata": {},
   "source": [
    "We see that cluster 2 has orders from high rated, high voted and slightly high-cost restaurants."
   ]
  },
  {
   "cell_type": "code",
   "execution_count": 38,
   "id": "ba290924",
   "metadata": {},
   "outputs": [
    {
     "data": {
      "text/html": [
       "<div>\n",
       "<style scoped>\n",
       "    .dataframe tbody tr th:only-of-type {\n",
       "        vertical-align: middle;\n",
       "    }\n",
       "\n",
       "    .dataframe tbody tr th {\n",
       "        vertical-align: top;\n",
       "    }\n",
       "\n",
       "    .dataframe thead th {\n",
       "        text-align: right;\n",
       "    }\n",
       "</style>\n",
       "<table border=\"1\" class=\"dataframe\">\n",
       "  <thead>\n",
       "    <tr style=\"text-align: right;\">\n",
       "      <th></th>\n",
       "      <th>rate</th>\n",
       "      <th>votes</th>\n",
       "      <th>approx_cost(for two people)</th>\n",
       "      <th>cluster</th>\n",
       "    </tr>\n",
       "  </thead>\n",
       "  <tbody>\n",
       "    <tr>\n",
       "      <th>count</th>\n",
       "      <td>2887.000000</td>\n",
       "      <td>2887.000000</td>\n",
       "      <td>2887.00000</td>\n",
       "      <td>2887.0</td>\n",
       "    </tr>\n",
       "    <tr>\n",
       "      <th>mean</th>\n",
       "      <td>4.180585</td>\n",
       "      <td>995.151022</td>\n",
       "      <td>1690.66505</td>\n",
       "      <td>3.0</td>\n",
       "    </tr>\n",
       "    <tr>\n",
       "      <th>std</th>\n",
       "      <td>0.263196</td>\n",
       "      <td>811.587835</td>\n",
       "      <td>542.86014</td>\n",
       "      <td>0.0</td>\n",
       "    </tr>\n",
       "    <tr>\n",
       "      <th>min</th>\n",
       "      <td>3.000000</td>\n",
       "      <td>0.000000</td>\n",
       "      <td>1100.00000</td>\n",
       "      <td>3.0</td>\n",
       "    </tr>\n",
       "    <tr>\n",
       "      <th>25%</th>\n",
       "      <td>4.000000</td>\n",
       "      <td>276.500000</td>\n",
       "      <td>1400.00000</td>\n",
       "      <td>3.0</td>\n",
       "    </tr>\n",
       "    <tr>\n",
       "      <th>50%</th>\n",
       "      <td>4.200000</td>\n",
       "      <td>771.000000</td>\n",
       "      <td>1500.00000</td>\n",
       "      <td>3.0</td>\n",
       "    </tr>\n",
       "    <tr>\n",
       "      <th>75%</th>\n",
       "      <td>4.400000</td>\n",
       "      <td>1561.500000</td>\n",
       "      <td>1800.00000</td>\n",
       "      <td>3.0</td>\n",
       "    </tr>\n",
       "    <tr>\n",
       "      <th>max</th>\n",
       "      <td>4.750000</td>\n",
       "      <td>3140.000000</td>\n",
       "      <td>6000.00000</td>\n",
       "      <td>3.0</td>\n",
       "    </tr>\n",
       "  </tbody>\n",
       "</table>\n",
       "</div>"
      ],
      "text/plain": [
       "              rate        votes  approx_cost(for two people)  cluster\n",
       "count  2887.000000  2887.000000                   2887.00000   2887.0\n",
       "mean      4.180585   995.151022                   1690.66505      3.0\n",
       "std       0.263196   811.587835                    542.86014      0.0\n",
       "min       3.000000     0.000000                   1100.00000      3.0\n",
       "25%       4.000000   276.500000                   1400.00000      3.0\n",
       "50%       4.200000   771.000000                   1500.00000      3.0\n",
       "75%       4.400000  1561.500000                   1800.00000      3.0\n",
       "max       4.750000  3140.000000                   6000.00000      3.0"
      ]
     },
     "execution_count": 38,
     "metadata": {},
     "output_type": "execute_result"
    }
   ],
   "source": [
    "d[d.cluster==3].describe()"
   ]
  },
  {
   "cell_type": "markdown",
   "id": "9242a6a1",
   "metadata": {},
   "source": [
    "We see that cluster 3 has orders from high rated, medium voted and very high-cost restaurants."
   ]
  },
  {
   "cell_type": "code",
   "execution_count": 39,
   "id": "2afcd6ab",
   "metadata": {},
   "outputs": [
    {
     "data": {
      "text/html": [
       "<div>\n",
       "<style scoped>\n",
       "    .dataframe tbody tr th:only-of-type {\n",
       "        vertical-align: middle;\n",
       "    }\n",
       "\n",
       "    .dataframe tbody tr th {\n",
       "        vertical-align: top;\n",
       "    }\n",
       "\n",
       "    .dataframe thead th {\n",
       "        text-align: right;\n",
       "    }\n",
       "</style>\n",
       "<table border=\"1\" class=\"dataframe\">\n",
       "  <thead>\n",
       "    <tr style=\"text-align: right;\">\n",
       "      <th></th>\n",
       "      <th>rate</th>\n",
       "      <th>votes</th>\n",
       "      <th>approx_cost(for two people)</th>\n",
       "      <th>cluster</th>\n",
       "    </tr>\n",
       "  </thead>\n",
       "  <tbody>\n",
       "    <tr>\n",
       "      <th>count</th>\n",
       "      <td>6537.000000</td>\n",
       "      <td>6537.000000</td>\n",
       "      <td>6537.000000</td>\n",
       "      <td>6537.0</td>\n",
       "    </tr>\n",
       "    <tr>\n",
       "      <th>mean</th>\n",
       "      <td>3.152425</td>\n",
       "      <td>65.903014</td>\n",
       "      <td>430.319566</td>\n",
       "      <td>4.0</td>\n",
       "    </tr>\n",
       "    <tr>\n",
       "      <th>std</th>\n",
       "      <td>0.209073</td>\n",
       "      <td>124.107633</td>\n",
       "      <td>219.012993</td>\n",
       "      <td>0.0</td>\n",
       "    </tr>\n",
       "    <tr>\n",
       "      <th>min</th>\n",
       "      <td>2.750000</td>\n",
       "      <td>0.000000</td>\n",
       "      <td>70.000000</td>\n",
       "      <td>4.0</td>\n",
       "    </tr>\n",
       "    <tr>\n",
       "      <th>25%</th>\n",
       "      <td>3.000000</td>\n",
       "      <td>7.000000</td>\n",
       "      <td>300.000000</td>\n",
       "      <td>4.0</td>\n",
       "    </tr>\n",
       "    <tr>\n",
       "      <th>50%</th>\n",
       "      <td>3.200000</td>\n",
       "      <td>18.000000</td>\n",
       "      <td>400.000000</td>\n",
       "      <td>4.0</td>\n",
       "    </tr>\n",
       "    <tr>\n",
       "      <th>75%</th>\n",
       "      <td>3.300000</td>\n",
       "      <td>66.000000</td>\n",
       "      <td>500.000000</td>\n",
       "      <td>4.0</td>\n",
       "    </tr>\n",
       "    <tr>\n",
       "      <th>max</th>\n",
       "      <td>3.400000</td>\n",
       "      <td>1884.000000</td>\n",
       "      <td>1900.000000</td>\n",
       "      <td>4.0</td>\n",
       "    </tr>\n",
       "  </tbody>\n",
       "</table>\n",
       "</div>"
      ],
      "text/plain": [
       "              rate        votes  approx_cost(for two people)  cluster\n",
       "count  6537.000000  6537.000000                  6537.000000   6537.0\n",
       "mean      3.152425    65.903014                   430.319566      4.0\n",
       "std       0.209073   124.107633                   219.012993      0.0\n",
       "min       2.750000     0.000000                    70.000000      4.0\n",
       "25%       3.000000     7.000000                   300.000000      4.0\n",
       "50%       3.200000    18.000000                   400.000000      4.0\n",
       "75%       3.300000    66.000000                   500.000000      4.0\n",
       "max       3.400000  1884.000000                  1900.000000      4.0"
      ]
     },
     "execution_count": 39,
     "metadata": {},
     "output_type": "execute_result"
    }
   ],
   "source": [
    "d[d.cluster==4].describe()"
   ]
  },
  {
   "cell_type": "markdown",
   "id": "9d49e084",
   "metadata": {},
   "source": [
    "We see that cluster 4 has orders from lowest rated, least voted and low-cost restaurants."
   ]
  },
  {
   "cell_type": "code",
   "execution_count": 40,
   "id": "384fd1b3",
   "metadata": {},
   "outputs": [
    {
     "data": {
      "image/png": "[encoded data removed]",
      "text/plain": [
       "<Figure size 640x480 with 1 Axes>"
      ]
     },
     "metadata": {},
     "output_type": "display_data"
    }
   ],
   "source": [
    "pd.crosstab(d.cluster,d.online_order).plot.bar() \n",
    "# plots grouped bar chart of 'cluster' and 'online_order'\n",
    "plt.show()"
   ]
  },
  {
   "cell_type": "markdown",
   "id": "ded8c060",
   "metadata": {},
   "source": [
    "**Inferences:**\n",
    "\n",
    "1. Except cluster 2 and 3, all other clusters have high number of online orders.\n",
    "2. Cluster 3 has more offline orders than online."
   ]
  },
  {
   "cell_type": "markdown",
   "id": "f38a9e48",
   "metadata": {},
   "source": [
    "Thus, 'listed_in(type)' and 'cluster' impact our target variable."
   ]
  },
  {
   "cell_type": "markdown",
   "id": "a6bd4e55",
   "metadata": {},
   "source": [
    "## Hypothesis Testing"
   ]
  },
  {
   "cell_type": "markdown",
   "id": "3236c8c4",
   "metadata": {},
   "source": [
    "**Test of dependence of target variable on 'listed_in(type)'**\n",
    "\n",
    "H0: 'listed_in(type)' and 'online_order' are independent.\n",
    "\n",
    "H1: 'listed_in(type)' and 'online_order' are not independent.\n",
    "\n",
    "Significance level = 0.05"
   ]
  },
  {
   "cell_type": "code",
   "execution_count": 41,
   "id": "ef23022e",
   "metadata": {},
   "outputs": [
    {
     "name": "stdout",
     "output_type": "stream",
     "text": [
      "P-value = 0.0\n"
     ]
    }
   ],
   "source": [
    "print('P-value =',stats.chi2_contingency(pd.crosstab(d['listed_in(type)'],d.online_order))[1])\n",
    "# Performs Chi-square Test of Independence"
   ]
  },
  {
   "cell_type": "markdown",
   "id": "83c5be17",
   "metadata": {},
   "source": [
    "Since the p-value is much less than the significance level, we reject the null hypothesis. Hence, there is enough evidence to conclude that 'listed_in(type)' and 'online_order' are not independent.\n",
    "\n",
    "Thus, the target variable depends on 'listed_in(type)'."
   ]
  },
  {
   "cell_type": "markdown",
   "id": "2319bbf7",
   "metadata": {},
   "source": [
    "**Test of dependence of target variable on 'cluster'**\n",
    "\n",
    "H0: 'cluster' and 'online_order' are independent.\n",
    "\n",
    "H1: 'cluster' and 'online_order' are not independent.\n",
    "\n",
    "Significance level = 0.05"
   ]
  },
  {
   "cell_type": "code",
   "execution_count": 42,
   "id": "d35b8adf",
   "metadata": {},
   "outputs": [
    {
     "name": "stdout",
     "output_type": "stream",
     "text": [
      "P-value = 7.58412277146681e-200\n"
     ]
    }
   ],
   "source": [
    "print('P-value =',stats.chi2_contingency(pd.crosstab(d.cluster,d.online_order))[1])\n",
    "# Performs Chi-square Test of Independence"
   ]
  },
  {
   "cell_type": "markdown",
   "id": "805050bd",
   "metadata": {},
   "source": [
    "Since the p-value is much less than the significance level, we reject the null hypothesis. Hence, there is enough evidence to conclude that 'cluster' and 'online_order' are not independent.\n",
    "\n",
    "Thus, the target variable depends on 'cluster'."
   ]
  },
  {
   "cell_type": "markdown",
   "id": "515db4c0",
   "metadata": {},
   "source": [
    "### Encoding Categorical Variables"
   ]
  },
  {
   "cell_type": "code",
   "execution_count": 43,
   "id": "c378b3b7",
   "metadata": {},
   "outputs": [
    {
     "data": {
      "text/html": [
       "<div>\n",
       "<style scoped>\n",
       "    .dataframe tbody tr th:only-of-type {\n",
       "        vertical-align: middle;\n",
       "    }\n",
       "\n",
       "    .dataframe tbody tr th {\n",
       "        vertical-align: top;\n",
       "    }\n",
       "\n",
       "    .dataframe thead th {\n",
       "        text-align: right;\n",
       "    }\n",
       "</style>\n",
       "<table border=\"1\" class=\"dataframe\">\n",
       "  <thead>\n",
       "    <tr style=\"text-align: right;\">\n",
       "      <th></th>\n",
       "      <th>name</th>\n",
       "      <th>online_order</th>\n",
       "      <th>book_table</th>\n",
       "      <th>rate</th>\n",
       "      <th>votes</th>\n",
       "      <th>location</th>\n",
       "      <th>rest_type</th>\n",
       "      <th>approx_cost(for two people)</th>\n",
       "      <th>listed_in(type)</th>\n",
       "      <th>cluster</th>\n",
       "    </tr>\n",
       "  </thead>\n",
       "  <tbody>\n",
       "    <tr>\n",
       "      <th>0</th>\n",
       "      <td>3664</td>\n",
       "      <td>1</td>\n",
       "      <td>1</td>\n",
       "      <td>4.1</td>\n",
       "      <td>775</td>\n",
       "      <td>1</td>\n",
       "      <td>27</td>\n",
       "      <td>800.0</td>\n",
       "      <td>0.432258</td>\n",
       "      <td>1</td>\n",
       "    </tr>\n",
       "    <tr>\n",
       "      <th>1</th>\n",
       "      <td>6969</td>\n",
       "      <td>1</td>\n",
       "      <td>0</td>\n",
       "      <td>4.1</td>\n",
       "      <td>787</td>\n",
       "      <td>1</td>\n",
       "      <td>27</td>\n",
       "      <td>800.0</td>\n",
       "      <td>0.432258</td>\n",
       "      <td>1</td>\n",
       "    </tr>\n",
       "    <tr>\n",
       "      <th>2</th>\n",
       "      <td>6450</td>\n",
       "      <td>1</td>\n",
       "      <td>0</td>\n",
       "      <td>3.8</td>\n",
       "      <td>918</td>\n",
       "      <td>1</td>\n",
       "      <td>22</td>\n",
       "      <td>800.0</td>\n",
       "      <td>0.432258</td>\n",
       "      <td>1</td>\n",
       "    </tr>\n",
       "    <tr>\n",
       "      <th>3</th>\n",
       "      <td>198</td>\n",
       "      <td>0</td>\n",
       "      <td>0</td>\n",
       "      <td>3.7</td>\n",
       "      <td>88</td>\n",
       "      <td>1</td>\n",
       "      <td>78</td>\n",
       "      <td>300.0</td>\n",
       "      <td>0.432258</td>\n",
       "      <td>0</td>\n",
       "    </tr>\n",
       "    <tr>\n",
       "      <th>4</th>\n",
       "      <td>2919</td>\n",
       "      <td>0</td>\n",
       "      <td>0</td>\n",
       "      <td>3.8</td>\n",
       "      <td>166</td>\n",
       "      <td>4</td>\n",
       "      <td>27</td>\n",
       "      <td>600.0</td>\n",
       "      <td>0.432258</td>\n",
       "      <td>0</td>\n",
       "    </tr>\n",
       "  </tbody>\n",
       "</table>\n",
       "</div>"
      ],
      "text/plain": [
       "   name  online_order  book_table  rate  votes  location  rest_type  \\\n",
       "0  3664             1           1   4.1    775         1         27   \n",
       "1  6969             1           0   4.1    787         1         27   \n",
       "2  6450             1           0   3.8    918         1         22   \n",
       "3   198             0           0   3.7     88         1         78   \n",
       "4  2919             0           0   3.8    166         4         27   \n",
       "\n",
       "   approx_cost(for two people)  listed_in(type)  cluster  \n",
       "0                        800.0         0.432258        1  \n",
       "1                        800.0         0.432258        1  \n",
       "2                        800.0         0.432258        1  \n",
       "3                        300.0         0.432258        0  \n",
       "4                        600.0         0.432258        0  "
      ]
     },
     "execution_count": 43,
     "metadata": {},
     "output_type": "execute_result"
    }
   ],
   "source": [
    "d.name=LabelEncoder().fit_transform(d.name)\n",
    "d.online_order=d.online_order.map({'Yes':1,'No':0}) # replaces 'Yes' with 1 and 'No' with 0\n",
    "d.book_table=d.book_table.map({'Yes':1,'No':0}) # replaces 'Yes' with 1 and 'No' with 0\n",
    "d.location=LabelEncoder().fit_transform(d.location)\n",
    "d.rest_type=LabelEncoder().fit_transform(d.rest_type)\n",
    "d['listed_in(type)']=d['listed_in(type)'].map(dict(d.groupby('listed_in(type)').online_order.mean()))\n",
    "# performs target encoding\n",
    "d.head()"
   ]
  },
  {
   "cell_type": "markdown",
   "id": "88f76d2e",
   "metadata": {},
   "source": [
    "### Splitting Data into Train and Test Sets"
   ]
  },
  {
   "cell_type": "code",
   "execution_count": 44,
   "id": "c5e074bc",
   "metadata": {},
   "outputs": [
    {
     "name": "stdout",
     "output_type": "stream",
     "text": [
      "(22012, 9) (9435, 9) (22012,) (9435,)\n"
     ]
    }
   ],
   "source": [
    "x=d.drop('online_order',axis=1)\n",
    "y=d.online_order\n",
    "xtrain,xtest,ytrain,ytest=train_test_split(x,y,test_size=.3,random_state=1)\n",
    "print(xtrain.shape,xtest.shape,ytrain.shape,ytest.shape)"
   ]
  },
  {
   "cell_type": "markdown",
   "id": "306462b0",
   "metadata": {},
   "source": [
    "### Base Model"
   ]
  },
  {
   "cell_type": "code",
   "execution_count": 45,
   "id": "038a7613",
   "metadata": {},
   "outputs": [
    {
     "name": "stdout",
     "output_type": "stream",
     "text": [
      "              precision    recall  f1-score   support\n",
      "\n",
      "           0       0.72      0.12      0.21      8748\n",
      "           1       0.63      0.97      0.76     13264\n",
      "\n",
      "    accuracy                           0.63     22012\n",
      "   macro avg       0.67      0.55      0.48     22012\n",
      "weighted avg       0.66      0.63      0.54     22012\n",
      "\n"
     ]
    }
   ],
   "source": [
    "lr=LogisticRegression().fit(xtrain,ytrain)\n",
    "pred=lr.predict(xtrain)\n",
    "print(classification_report(ytrain,pred))"
   ]
  },
  {
   "cell_type": "markdown",
   "id": "4cf6fa39",
   "metadata": {},
   "source": [
    "**Inferences:**\n",
    "\n",
    "1. The model correctly predicts the classes of 63% of the data.\n",
    "2. It performs fairly well in precision of both the positive and negative classes.\n",
    "\n",
    "We can see that the recall and F1 score of the model is quite low for the negative class due to the slight imbalance in the target variable. We shall try to improve them by trying other models."
   ]
  },
  {
   "cell_type": "markdown",
   "id": "99ef5b22",
   "metadata": {},
   "source": [
    "### Logit Model"
   ]
  },
  {
   "cell_type": "code",
   "execution_count": 55,
   "id": "28da2e6a",
   "metadata": {},
   "outputs": [
    {
     "name": "stdout",
     "output_type": "stream",
     "text": [
      "Optimization terminated successfully.\n",
      "         Current function value: 0.626591\n",
      "         Iterations 5\n",
      "              precision    recall  f1-score   support\n",
      "\n",
      "           0       0.58      0.40      0.47      8748\n",
      "           1       0.67      0.81      0.73     13264\n",
      "\n",
      "    accuracy                           0.64     22012\n",
      "   macro avg       0.62      0.60      0.60     22012\n",
      "weighted avg       0.63      0.64      0.63     22012\n",
      "\n"
     ]
    },
    {
     "data": {
      "text/html": [
       "<table class=\"simpletable\">\n",
       "<caption>Logit Regression Results</caption>\n",
       "<tr>\n",
       "  <th>Dep. Variable:</th>     <td>online_order</td>   <th>  No. Observations:  </th>  <td> 22012</td> \n",
       "</tr>\n",
       "<tr>\n",
       "  <th>Model:</th>                 <td>Logit</td>      <th>  Df Residuals:      </th>  <td> 22002</td> \n",
       "</tr>\n",
       "<tr>\n",
       "  <th>Method:</th>                 <td>MLE</td>       <th>  Df Model:          </th>  <td>     9</td> \n",
       "</tr>\n",
       "<tr>\n",
       "  <th>Date:</th>            <td>Fri, 12 May 2023</td> <th>  Pseudo R-squ.:     </th>  <td>0.06751</td>\n",
       "</tr>\n",
       "<tr>\n",
       "  <th>Time:</th>                <td>06:13:33</td>     <th>  Log-Likelihood:    </th> <td> -13793.</td>\n",
       "</tr>\n",
       "<tr>\n",
       "  <th>converged:</th>             <td>True</td>       <th>  LL-Null:           </th> <td> -14791.</td>\n",
       "</tr>\n",
       "<tr>\n",
       "  <th>Covariance Type:</th>     <td>nonrobust</td>    <th>  LLR p-value:       </th>  <td> 0.000</td> \n",
       "</tr>\n",
       "</table>\n",
       "<table class=\"simpletable\">\n",
       "<tr>\n",
       "               <td></td>                  <th>coef</th>     <th>std err</th>      <th>z</th>      <th>P>|z|</th>  <th>[0.025</th>    <th>0.975]</th>  \n",
       "</tr>\n",
       "<tr>\n",
       "  <th>const</th>                       <td>   -4.1529</td> <td>    0.233</td> <td>  -17.832</td> <td> 0.000</td> <td>   -4.609</td> <td>   -3.696</td>\n",
       "</tr>\n",
       "<tr>\n",
       "  <th>name</th>                        <td> 1.787e-05</td> <td> 5.68e-06</td> <td>    3.146</td> <td> 0.002</td> <td> 6.74e-06</td> <td>  2.9e-05</td>\n",
       "</tr>\n",
       "<tr>\n",
       "  <th>book_table</th>                  <td>    0.3261</td> <td>    0.055</td> <td>    5.964</td> <td> 0.000</td> <td>    0.219</td> <td>    0.433</td>\n",
       "</tr>\n",
       "<tr>\n",
       "  <th>rate</th>                        <td>    0.6449</td> <td>    0.057</td> <td>   11.286</td> <td> 0.000</td> <td>    0.533</td> <td>    0.757</td>\n",
       "</tr>\n",
       "<tr>\n",
       "  <th>votes</th>                       <td> 4.994e-05</td> <td> 1.88e-05</td> <td>    2.653</td> <td> 0.008</td> <td>  1.3e-05</td> <td> 8.68e-05</td>\n",
       "</tr>\n",
       "<tr>\n",
       "  <th>location</th>                    <td>   -0.0021</td> <td>    0.001</td> <td>   -4.033</td> <td> 0.000</td> <td>   -0.003</td> <td>   -0.001</td>\n",
       "</tr>\n",
       "<tr>\n",
       "  <th>rest_type</th>                   <td>   -0.0047</td> <td>    0.001</td> <td>   -8.339</td> <td> 0.000</td> <td>   -0.006</td> <td>   -0.004</td>\n",
       "</tr>\n",
       "<tr>\n",
       "  <th>approx_cost(for two people)</th> <td>   -0.0007</td> <td> 4.91e-05</td> <td>  -13.396</td> <td> 0.000</td> <td>   -0.001</td> <td>   -0.001</td>\n",
       "</tr>\n",
       "<tr>\n",
       "  <th>listed_in(type)</th>             <td>    4.3878</td> <td>    0.121</td> <td>   36.203</td> <td> 0.000</td> <td>    4.150</td> <td>    4.625</td>\n",
       "</tr>\n",
       "<tr>\n",
       "  <th>cluster</th>                     <td>    0.0707</td> <td>    0.012</td> <td>    5.760</td> <td> 0.000</td> <td>    0.047</td> <td>    0.095</td>\n",
       "</tr>\n",
       "</table>"
      ],
      "text/plain": [
       "<class 'statsmodels.iolib.summary.Summary'>\n",
       "\"\"\"\n",
       "                           Logit Regression Results                           \n",
       "==============================================================================\n",
       "Dep. Variable:           online_order   No. Observations:                22012\n",
       "Model:                          Logit   Df Residuals:                    22002\n",
       "Method:                           MLE   Df Model:                            9\n",
       "Date:                Fri, 12 May 2023   Pseudo R-squ.:                 0.06751\n",
       "Time:                        06:13:33   Log-Likelihood:                -13793.\n",
       "converged:                       True   LL-Null:                       -14791.\n",
       "Covariance Type:            nonrobust   LLR p-value:                     0.000\n",
       "===============================================================================================\n",
       "                                  coef    std err          z      P>|z|      [0.025      0.975]\n",
       "-----------------------------------------------------------------------------------------------\n",
       "const                          -4.1529      0.233    -17.832      0.000      -4.609      -3.696\n",
       "name                         1.787e-05   5.68e-06      3.146      0.002    6.74e-06     2.9e-05\n",
       "book_table                      0.3261      0.055      5.964      0.000       0.219       0.433\n",
       "rate                            0.6449      0.057     11.286      0.000       0.533       0.757\n",
       "votes                        4.994e-05   1.88e-05      2.653      0.008     1.3e-05    8.68e-05\n",
       "location                       -0.0021      0.001     -4.033      0.000      -0.003      -0.001\n",
       "rest_type                      -0.0047      0.001     -8.339      0.000      -0.006      -0.004\n",
       "approx_cost(for two people)    -0.0007   4.91e-05    -13.396      0.000      -0.001      -0.001\n",
       "listed_in(type)                 4.3878      0.121     36.203      0.000       4.150       4.625\n",
       "cluster                         0.0707      0.012      5.760      0.000       0.047       0.095\n",
       "===============================================================================================\n",
       "\"\"\""
      ]
     },
     "execution_count": 55,
     "metadata": {},
     "output_type": "execute_result"
    }
   ],
   "source": [
    "l=Logit(ytrain,add_constant(xtrain)).fit()\n",
    "prob=l.predict(add_constant(xtrain)) # predicts probabilities of positive class\n",
    "pred=prob.apply(lambda x:0 if x<.5 else 1) # assigns classes according to predicted probabilities\n",
    "print(classification_report(ytrain,pred))\n",
    "l.summary()"
   ]
  },
  {
   "cell_type": "markdown",
   "id": "668cc3d2",
   "metadata": {},
   "source": [
    "The recall and F1 score have improved. We shall try to find the optimal probability threshold using Youden's Table."
   ]
  },
  {
   "cell_type": "markdown",
   "id": "03c2d6fa",
   "metadata": {},
   "source": [
    "#### Youden's Table"
   ]
  },
  {
   "cell_type": "code",
   "execution_count": 47,
   "id": "2e0a0332",
   "metadata": {},
   "outputs": [
    {
     "data": {
      "text/html": [
       "<div>\n",
       "<style scoped>\n",
       "    .dataframe tbody tr th:only-of-type {\n",
       "        vertical-align: middle;\n",
       "    }\n",
       "\n",
       "    .dataframe tbody tr th {\n",
       "        vertical-align: top;\n",
       "    }\n",
       "\n",
       "    .dataframe thead th {\n",
       "        text-align: right;\n",
       "    }\n",
       "</style>\n",
       "<table border=\"1\" class=\"dataframe\">\n",
       "  <thead>\n",
       "    <tr style=\"text-align: right;\">\n",
       "      <th></th>\n",
       "      <th>TPR-FPR</th>\n",
       "      <th>Threshold</th>\n",
       "    </tr>\n",
       "  </thead>\n",
       "  <tbody>\n",
       "    <tr>\n",
       "      <th>4582</th>\n",
       "      <td>0.251758</td>\n",
       "      <td>0.587750</td>\n",
       "    </tr>\n",
       "    <tr>\n",
       "      <th>4584</th>\n",
       "      <td>0.251719</td>\n",
       "      <td>0.587666</td>\n",
       "    </tr>\n",
       "    <tr>\n",
       "      <th>4583</th>\n",
       "      <td>0.251644</td>\n",
       "      <td>0.587743</td>\n",
       "    </tr>\n",
       "    <tr>\n",
       "      <th>4590</th>\n",
       "      <td>0.251598</td>\n",
       "      <td>0.587226</td>\n",
       "    </tr>\n",
       "    <tr>\n",
       "      <th>4580</th>\n",
       "      <td>0.251571</td>\n",
       "      <td>0.587925</td>\n",
       "    </tr>\n",
       "  </tbody>\n",
       "</table>\n",
       "</div>"
      ],
      "text/plain": [
       "       TPR-FPR  Threshold\n",
       "4582  0.251758   0.587750\n",
       "4584  0.251719   0.587666\n",
       "4583  0.251644   0.587743\n",
       "4590  0.251598   0.587226\n",
       "4580  0.251571   0.587925"
      ]
     },
     "execution_count": 47,
     "metadata": {},
     "output_type": "execute_result"
    }
   ],
   "source": [
    "fpr,tpr,th=roc_curve(ytrain,prob)\n",
    "yt=pd.DataFrame({'TPR-FPR':tpr-fpr,'Threshold':th}) # creates Youden's Table\n",
    "yt.nlargest(5,'TPR-FPR') # returns records of Youden's Table with top five 'TPR-FPR'"
   ]
  },
  {
   "cell_type": "markdown",
   "id": "598626f8",
   "metadata": {},
   "source": [
    "We see that the threshold for the maximum difference between True Positive Rate (TPR) and False Positive Rate (FPR) is 0.58775 and thus, we shall take it as the optimal threshold."
   ]
  },
  {
   "cell_type": "code",
   "execution_count": 48,
   "id": "6b5b8c4b",
   "metadata": {},
   "outputs": [
    {
     "name": "stdout",
     "output_type": "stream",
     "text": [
      "              precision    recall  f1-score   support\n",
      "\n",
      "           0       0.53      0.61      0.57      8748\n",
      "           1       0.71      0.64      0.68     13264\n",
      "\n",
      "    accuracy                           0.63     22012\n",
      "   macro avg       0.62      0.63      0.62     22012\n",
      "weighted avg       0.64      0.63      0.63     22012\n",
      "\n"
     ]
    }
   ],
   "source": [
    "pred=prob.apply(lambda x:0 if x<0.58775 else 1) # assigns classes according to predicted probabilities\n",
    "print(classification_report(ytrain,pred))"
   ]
  },
  {
   "cell_type": "markdown",
   "id": "e845b5ef",
   "metadata": {},
   "source": [
    "### K-Nearest Neighbors (KNN) Model"
   ]
  },
  {
   "cell_type": "markdown",
   "id": "b268151d",
   "metadata": {},
   "source": [
    "We shall scale the independent columns and re-split the data for K-Nearest Neighbors (KNN) algorithm."
   ]
  },
  {
   "cell_type": "code",
   "execution_count": 49,
   "id": "0ac5a79d",
   "metadata": {},
   "outputs": [
    {
     "name": "stdout",
     "output_type": "stream",
     "text": [
      "(22012, 9) (9435, 9) (22012,) (9435,)\n"
     ]
    }
   ],
   "source": [
    "x_scale=x.apply(lambda x:(x-x.mean())/x.std()) # performs standard scaling\n",
    "xtrain_scale,xtest_scale,ytrain,ytest=train_test_split(x,y,test_size=.3,random_state=1)\n",
    "print(xtrain_scale.shape,xtest_scale.shape,ytrain.shape,ytest.shape)"
   ]
  },
  {
   "cell_type": "code",
   "execution_count": 50,
   "id": "32e3f16b",
   "metadata": {},
   "outputs": [
    {
     "name": "stdout",
     "output_type": "stream",
     "text": [
      "              precision    recall  f1-score   support\n",
      "\n",
      "           0       0.65      0.43      0.52      8748\n",
      "           1       0.69      0.85      0.76     13264\n",
      "\n",
      "    accuracy                           0.68     22012\n",
      "   macro avg       0.67      0.64      0.64     22012\n",
      "weighted avg       0.68      0.68      0.67     22012\n",
      "\n"
     ]
    }
   ],
   "source": [
    "knn=KNeighborsClassifier(73,metric='euclidean').fit(xtrain_scale,ytrain)\n",
    "pred=knn.predict(xtrain_scale)\n",
    "print(classification_report(ytrain,pred))"
   ]
  },
  {
   "cell_type": "markdown",
   "id": "134cb310",
   "metadata": {},
   "source": [
    "### Naive Bayes Model"
   ]
  },
  {
   "cell_type": "code",
   "execution_count": 51,
   "id": "19b3934a",
   "metadata": {},
   "outputs": [
    {
     "name": "stdout",
     "output_type": "stream",
     "text": [
      "              precision    recall  f1-score   support\n",
      "\n",
      "           0       0.58      0.21      0.31      8748\n",
      "           1       0.63      0.90      0.74     13264\n",
      "\n",
      "    accuracy                           0.63     22012\n",
      "   macro avg       0.61      0.56      0.53     22012\n",
      "weighted avg       0.61      0.63      0.57     22012\n",
      "\n"
     ]
    }
   ],
   "source": [
    "gnb=GaussianNB().fit(xtrain,ytrain)\n",
    "pred=gnb.predict(xtrain)\n",
    "print(classification_report(ytrain,pred))"
   ]
  },
  {
   "cell_type": "markdown",
   "id": "34fc6c64",
   "metadata": {},
   "source": [
    "### Decision Tree Model"
   ]
  },
  {
   "cell_type": "code",
   "execution_count": 52,
   "id": "c442b97d",
   "metadata": {},
   "outputs": [
    {
     "name": "stdout",
     "output_type": "stream",
     "text": [
      "              precision    recall  f1-score   support\n",
      "\n",
      "           0       0.65      0.64      0.65      8748\n",
      "           1       0.77      0.78      0.77     13264\n",
      "\n",
      "    accuracy                           0.72     22012\n",
      "   macro avg       0.71      0.71      0.71     22012\n",
      "weighted avg       0.72      0.72      0.72     22012\n",
      "\n"
     ]
    }
   ],
   "source": [
    "dt=DecisionTreeClassifier(max_depth=4,random_state=1).fit(xtrain,ytrain) \n",
    "pred=dt.predict(xtrain)\n",
    "print(classification_report(ytrain,pred))"
   ]
  },
  {
   "cell_type": "markdown",
   "id": "8b0fff76",
   "metadata": {},
   "source": [
    "### Final Model (Random Forest)"
   ]
  },
  {
   "cell_type": "code",
   "execution_count": 53,
   "id": "c26f4e5b",
   "metadata": {},
   "outputs": [
    {
     "name": "stdout",
     "output_type": "stream",
     "text": [
      "Classification report for train set:\n",
      "\n",
      "               precision    recall  f1-score   support\n",
      "\n",
      "           0       0.70      0.59      0.64      8748\n",
      "           1       0.75      0.83      0.79     13264\n",
      "\n",
      "    accuracy                           0.74     22012\n",
      "   macro avg       0.73      0.71      0.71     22012\n",
      "weighted avg       0.73      0.74      0.73     22012\n",
      "\n"
     ]
    }
   ],
   "source": [
    "rf=RandomForestClassifier(max_depth=5,random_state=1).fit(xtrain,ytrain)\n",
    "pred=rf.predict(xtrain)\n",
    "print('Classification report for train set:\\n\\n',classification_report(ytrain,pred))"
   ]
  },
  {
   "cell_type": "markdown",
   "id": "d433661a",
   "metadata": {},
   "source": [
    "**Inferences:**\n",
    "\n",
    "1. The model correctly predicts the classes of 74% of the data.\n",
    "2. Other metrics such as precision and F1 score are also fairly well for both the positive and negative classes.\n",
    "3. There is significant difference between recall of negative and positive classes with tells us that the model is better at predicting positive classes than negative because of imbalance in the target.\n",
    "\n",
    "We can see that the Random Forest model is better than the previous models in terms of most of the metrics and thus, we have decided to choose it as our final model. We shall now perform the prediction on the test set."
   ]
  },
  {
   "cell_type": "code",
   "execution_count": 54,
   "id": "7917a9b4",
   "metadata": {},
   "outputs": [
    {
     "name": "stdout",
     "output_type": "stream",
     "text": [
      "Classification report for test set:\n",
      "\n",
      "               precision    recall  f1-score   support\n",
      "\n",
      "           0       0.70      0.59      0.64      3701\n",
      "           1       0.76      0.83      0.79      5734\n",
      "\n",
      "    accuracy                           0.74      9435\n",
      "   macro avg       0.73      0.71      0.72      9435\n",
      "weighted avg       0.73      0.74      0.73      9435\n",
      "\n"
     ]
    }
   ],
   "source": [
    "pred=rf.predict(xtest)\n",
    "print('Classification report for test set:\\n\\n',classification_report(ytest,pred))"
   ]
  },
  {
   "cell_type": "markdown",
   "id": "a42d3e84",
   "metadata": {},
   "source": [
    "### Business Understanding"
   ]
  },
  {
   "cell_type": "markdown",
   "id": "a8a6bbcb",
   "metadata": {},
   "source": [
    "1. If a customer wants to book tables, the order is more likely to be online than offline.\n",
    "2. Higher rated restaurants have a higher chance of online order.\n",
    "3. Orders from delivery type restaurants are much more likely to be online than other types.\n",
    "4. Buffet restaurants, pubs and bars generally have a higher chance of offline orders than online."
   ]
  }
 ],
 "metadata": {
  "kernelspec": {
   "display_name": "Python 3 (ipykernel)",
   "language": "python",
   "name": "python3"
  },
  "language_info": {
   "codemirror_mode": {
    "name": "ipython",
    "version": 3
   },
   "file_extension": ".py",
   "mimetype": "text/x-python",
   "name": "python",
   "nbconvert_exporter": "python",
   "pygments_lexer": "ipython3",
   "version": "3.10.9"
  }
 },
 "nbformat": 4,
 "nbformat_minor": 5
}
